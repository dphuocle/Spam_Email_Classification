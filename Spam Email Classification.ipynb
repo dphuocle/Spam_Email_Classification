{
 "cells": [
  {
   "cell_type": "markdown",
   "id": "be1333fb",
   "metadata": {},
   "source": [
    "**Data : Download examples of spam and ham from *Apache SpamAssassin's public datasets.*** https://spamassassin.apache.org/old/publiccorpus/"
   ]
  },
  {
   "cell_type": "code",
   "execution_count": 1,
   "id": "5c0f7237",
   "metadata": {},
   "outputs": [],
   "source": [
    "from pathlib import Path\n",
    "import tarfile\n",
    "import urllib.request\n",
    "\n",
    "def fetch_spam_data():\n",
    "    spam_root = \"http://spamassassin.apache.org/old/publiccorpus/\"\n",
    "    ham_url = spam_root + \"20030228_easy_ham.tar.bz2\"\n",
    "    spam_url = spam_root + \"20030228_spam.tar.bz2\"\n",
    "    \n",
    "    spam_path = Path() / \"datasets\" / \"spam\"\n",
    "    spam_path.mkdir(parents=True, exist_ok=True)\n",
    "    for dir_name, tar_name, url in ((\"easy_ham\", \"ham\", ham_url), (\"spam\", \"spam\", spam_url)):\n",
    "        if not (spam_path / dir_name).is_dir():\n",
    "            path = (spam_path / tar_name).with_suffix(\".tar.bz2\")\n",
    "            print(\"Downloading\", path)\n",
    "            urllib.request.urlretrieve(url, path)\n",
    "            tar_bz2_file = tarfile.open(path)\n",
    "            tar_bz2_file.extractall(path=spam_path)\n",
    "            tar_bz2_file.close()\n",
    "    return [spam_path / dir_name for dir_name in (\"easy_ham\", \"spam\")]"
   ]
  },
  {
   "cell_type": "code",
   "execution_count": 2,
   "id": "cc7b8c46",
   "metadata": {},
   "outputs": [],
   "source": [
    "ham_dir, spam_dir = fetch_spam_data()"
   ]
  },
  {
   "cell_type": "code",
   "execution_count": 3,
   "id": "b3f96d5a",
   "metadata": {},
   "outputs": [],
   "source": [
    "ham_filenames = [f for f in sorted(ham_dir.iterdir()) if len(f.name) > 20]\n",
    "spam_filenames = [f for f in sorted(spam_dir.iterdir()) if len(f.name) > 20]"
   ]
  },
  {
   "cell_type": "code",
   "execution_count": 4,
   "id": "20c486ff",
   "metadata": {},
   "outputs": [
    {
     "data": {
      "text/plain": [
       "2500"
      ]
     },
     "execution_count": 4,
     "metadata": {},
     "output_type": "execute_result"
    }
   ],
   "source": [
    "len(ham_filenames)"
   ]
  },
  {
   "cell_type": "code",
   "execution_count": 5,
   "id": "a5f3534e",
   "metadata": {},
   "outputs": [
    {
     "data": {
      "text/plain": [
       "500"
      ]
     },
     "execution_count": 5,
     "metadata": {},
     "output_type": "execute_result"
    }
   ],
   "source": [
    "len(spam_filenames)"
   ]
  },
  {
   "cell_type": "code",
   "execution_count": 6,
   "id": "9840cecd",
   "metadata": {},
   "outputs": [],
   "source": [
    "import email\n",
    "import email.policy\n",
    "\n",
    "def load_email(filepath):\n",
    "    with open(filepath, \"rb\") as f:\n",
    "        return email.parser.BytesParser(policy=email.policy.default).parse(f)"
   ]
  },
  {
   "cell_type": "code",
   "execution_count": 7,
   "id": "4ab0a9bf",
   "metadata": {},
   "outputs": [],
   "source": [
    "ham_emails = [load_email(filepath) for filepath in ham_filenames]\n",
    "spam_emails = [load_email(filepath) for filepath in spam_filenames]"
   ]
  },
  {
   "cell_type": "markdown",
   "id": "d09157d2",
   "metadata": {},
   "source": [
    "example of **ham**"
   ]
  },
  {
   "cell_type": "code",
   "execution_count": 8,
   "id": "5738c235",
   "metadata": {},
   "outputs": [
    {
     "name": "stdout",
     "output_type": "stream",
     "text": [
      "Martin A posted:\n",
      "Tassos Papadopoulos, the Greek sculptor behind the plan, judged that the\n",
      " limestone of Mount Kerdylio, 70 miles east of Salonika and not far from the\n",
      " Mount Athos monastic community, was ideal for the patriotic sculpture. \n",
      " \n",
      " As well as Alexander's granite features, 240 ft high and 170 ft wide, a\n",
      " museum, a restored amphitheatre and car park for admiring crowds are\n",
      "planned\n",
      "---------------------\n",
      "So is this mountain limestone or granite?\n",
      "If it's limestone, it'll weather pretty fast.\n",
      "\n",
      "------------------------ Yahoo! Groups Sponsor ---------------------~-->\n",
      "4 DVDs Free +s&p Join Now\n",
      "http://us.click.yahoo.com/pt6YBB/NXiEAA/mG3HAA/7gSolB/TM\n",
      "---------------------------------------------------------------------~->\n",
      "\n",
      "To unsubscribe from this group, send an email to:\n",
      "forteana-unsubscribe@egroups.com\n",
      "\n",
      " \n",
      "\n",
      "Your use of Yahoo! Groups is subject to http://docs.yahoo.com/info/terms/\n"
     ]
    }
   ],
   "source": [
    "print(ham_emails[1].get_content().strip())"
   ]
  },
  {
   "cell_type": "markdown",
   "id": "e7d673ef",
   "metadata": {},
   "source": [
    "example of **spam**"
   ]
  },
  {
   "cell_type": "code",
   "execution_count": 9,
   "id": "001e3c25",
   "metadata": {},
   "outputs": [
    {
     "name": "stdout",
     "output_type": "stream",
     "text": [
      "1) Fight The Risk of Cancer!\n",
      "http://www.adclick.ws/p.cfm?o=315&s=pk007\n",
      "\n",
      "2) Slim Down - Guaranteed to lose 10-12 lbs in 30 days\n",
      "http://www.adclick.ws/p.cfm?o=249&s=pk007\n",
      "\n",
      "3) Get the Child Support You Deserve - Free Legal Advice\n",
      "http://www.adclick.ws/p.cfm?o=245&s=pk002\n",
      "\n",
      "4) Join the Web's Fastest Growing Singles Community\n",
      "http://www.adclick.ws/p.cfm?o=259&s=pk007\n",
      "\n",
      "5) Start Your Private Photo Album Online!\n",
      "http://www.adclick.ws/p.cfm?o=283&s=pk007\n",
      "\n",
      "Have a Wonderful Day,\n",
      "Offer Manager\n",
      "PrizeMama\n",
      "\n",
      "\n",
      "\n",
      "\n",
      "\n",
      "\n",
      "\n",
      "\n",
      "\n",
      "\n",
      "\n",
      "\n",
      "\n",
      "If you wish to leave this list please use the link below.\n",
      "http://www.qves.com/trim/?ilug@linux.ie%7C17%7C114258\n",
      "\n",
      "\n",
      "-- \n",
      "Irish Linux Users' Group: ilug@linux.ie\n",
      "http://www.linux.ie/mailman/listinfo/ilug for (un)subscription information.\n",
      "List maintainer: listmaster@linux.ie\n"
     ]
    }
   ],
   "source": [
    "print(spam_emails[1].get_content().strip())"
   ]
  },
  {
   "cell_type": "markdown",
   "id": "a7c8f0b0",
   "metadata": {},
   "source": [
    "Some emails are actually multipart, with images and attachments (which can have their own attachments). Let's look at the various types of structures we have:"
   ]
  },
  {
   "cell_type": "code",
   "execution_count": 10,
   "id": "55e48e61",
   "metadata": {},
   "outputs": [],
   "source": [
    "def get_email_structure(email):\n",
    "    if isinstance(email, str):\n",
    "        return email\n",
    "    payload = email.get_payload()\n",
    "    if isinstance(payload, list):\n",
    "        multipart = \", \".join([get_email_structure(sub_email)\n",
    "                               for sub_email in payload])\n",
    "        return f\"multipart({multipart})\"\n",
    "    else:\n",
    "        return email.get_content_type()"
   ]
  },
  {
   "cell_type": "code",
   "execution_count": 11,
   "id": "5bcb86a5",
   "metadata": {},
   "outputs": [],
   "source": [
    "from collections import Counter\n",
    "\n",
    "def structures_counter(emails):\n",
    "    structures = Counter()\n",
    "    for email in emails:\n",
    "        structure = get_email_structure(email)\n",
    "        structures[structure] += 1\n",
    "    return structures"
   ]
  },
  {
   "cell_type": "code",
   "execution_count": 12,
   "id": "f69a56ec",
   "metadata": {},
   "outputs": [
    {
     "data": {
      "text/plain": [
       "[('text/plain', 2408),\n",
       " ('multipart(text/plain, application/pgp-signature)', 66),\n",
       " ('multipart(text/plain, text/html)', 8),\n",
       " ('multipart(text/plain, text/plain)', 4),\n",
       " ('multipart(text/plain)', 3),\n",
       " ('multipart(text/plain, application/octet-stream)', 2),\n",
       " ('multipart(text/plain, text/enriched)', 1),\n",
       " ('multipart(text/plain, application/ms-tnef, text/plain)', 1),\n",
       " ('multipart(multipart(text/plain, text/plain, text/plain), application/pgp-signature)',\n",
       "  1),\n",
       " ('multipart(text/plain, video/mng)', 1),\n",
       " ('multipart(text/plain, multipart(text/plain))', 1),\n",
       " ('multipart(text/plain, application/x-pkcs7-signature)', 1),\n",
       " ('multipart(text/plain, multipart(text/plain, text/plain), text/rfc822-headers)',\n",
       "  1),\n",
       " ('multipart(text/plain, multipart(text/plain, text/plain), multipart(multipart(text/plain, application/x-pkcs7-signature)))',\n",
       "  1),\n",
       " ('multipart(text/plain, application/x-java-applet)', 1)]"
      ]
     },
     "execution_count": 12,
     "metadata": {},
     "output_type": "execute_result"
    }
   ],
   "source": [
    "structures_counter(ham_emails).most_common()"
   ]
  },
  {
   "cell_type": "code",
   "execution_count": 13,
   "id": "00c89ab7",
   "metadata": {},
   "outputs": [
    {
     "data": {
      "text/plain": [
       "[('text/plain', 218),\n",
       " ('text/html', 183),\n",
       " ('multipart(text/plain, text/html)', 45),\n",
       " ('multipart(text/html)', 20),\n",
       " ('multipart(text/plain)', 19),\n",
       " ('multipart(multipart(text/html))', 5),\n",
       " ('multipart(text/plain, image/jpeg)', 3),\n",
       " ('multipart(text/html, application/octet-stream)', 2),\n",
       " ('multipart(text/plain, application/octet-stream)', 1),\n",
       " ('multipart(text/html, text/plain)', 1),\n",
       " ('multipart(multipart(text/html), application/octet-stream, image/jpeg)', 1),\n",
       " ('multipart(multipart(text/plain, text/html), image/gif)', 1),\n",
       " ('multipart/alternative', 1)]"
      ]
     },
     "execution_count": 13,
     "metadata": {},
     "output_type": "execute_result"
    }
   ],
   "source": [
    "structures_counter(spam_emails).most_common()"
   ]
  },
  {
   "cell_type": "markdown",
   "id": "780b96d7",
   "metadata": {},
   "source": [
    "It seems that the ham emails are more often plain text, while spam has quite a lot of HTML. Moreover, quite a few ham emails are signed using PGP, while no spam is. In short, it seems that the email structure is useful information to have."
   ]
  },
  {
   "cell_type": "code",
   "execution_count": 14,
   "id": "6c3cbafa",
   "metadata": {},
   "outputs": [
    {
     "name": "stdout",
     "output_type": "stream",
     "text": [
      "Return-Path : <12a1mailbot1@web.de>\n",
      "Delivered-To : zzzz@localhost.spamassassin.taint.org\n",
      "Received : from localhost (localhost [127.0.0.1])\tby phobos.labs.spamassassin.taint.org (Postfix) with ESMTP id 136B943C32\tfor <zzzz@localhost>; Thu, 22 Aug 2002 08:17:21 -0400 (EDT)\n",
      "Received : from mail.webnote.net [193.120.211.219]\tby localhost with POP3 (fetchmail-5.9.0)\tfor zzzz@localhost (single-drop); Thu, 22 Aug 2002 13:17:21 +0100 (IST)\n",
      "Received : from dd_it7 ([210.97.77.167])\tby webnote.net (8.9.3/8.9.3) with ESMTP id NAA04623\tfor <zzzz@spamassassin.taint.org>; Thu, 22 Aug 2002 13:09:41 +0100\n",
      "From : 12a1mailbot1@web.de\n",
      "Received : from r-smtp.korea.com - 203.122.2.197 by dd_it7  with Microsoft SMTPSVC(5.5.1775.675.6);\t Sat, 24 Aug 2002 09:42:10 +0900\n",
      "To : dcek1a1@netsgo.com\n",
      "Subject : Life Insurance - Why Pay More?\n",
      "Date : Wed, 21 Aug 2002 20:31:57 -1600\n",
      "MIME-Version : 1.0\n",
      "Message-ID : <0103c1042001882DD_IT7@dd_it7>\n",
      "Content-Type : text/html; charset=\"iso-8859-1\"\n",
      "Content-Transfer-Encoding : quoted-printable\n"
     ]
    }
   ],
   "source": [
    "# Take a look at the email headers\n",
    "for header, value in spam_emails[0].items():\n",
    "    print(header, \":\", value)"
   ]
  },
  {
   "cell_type": "code",
   "execution_count": 15,
   "id": "bf993883",
   "metadata": {},
   "outputs": [
    {
     "data": {
      "text/plain": [
       "'Life Insurance - Why Pay More?'"
      ]
     },
     "execution_count": 15,
     "metadata": {},
     "output_type": "execute_result"
    }
   ],
   "source": [
    "spam_emails[0][\"Subject\"]"
   ]
  },
  {
   "cell_type": "code",
   "execution_count": 16,
   "id": "ae79059b",
   "metadata": {},
   "outputs": [],
   "source": [
    "import numpy as np\n",
    "from sklearn.model_selection import train_test_split\n",
    "\n",
    "X = np.array(ham_emails + spam_emails, dtype=object)\n",
    "y = np.array([0] * len(ham_emails) + [1] * len(spam_emails))\n",
    "# y is a NumPy array representing the labels, where 0 corresponds to ham emails and 1 corresponds to spam emails.\n",
    "\n",
    "X_train, X_test, y_train, y_test = train_test_split(X, y, test_size=0.2,\n",
    "                                                    random_state=42)"
   ]
  },
  {
   "cell_type": "markdown",
   "id": "05c370f5",
   "metadata": {},
   "source": [
    "## Convert HTML to plain text"
   ]
  },
  {
   "cell_type": "code",
   "execution_count": 17,
   "id": "27577b19",
   "metadata": {},
   "outputs": [],
   "source": [
    "import re\n",
    "from html import unescape\n",
    "\n",
    "def html_to_plain_text(html):\n",
    "    text = re.sub('<head.*?>.*?</head>', '', html, flags=re.M | re.S | re.I)\n",
    "    text = re.sub('<a\\s.*?>', ' HYPERLINK ', text, flags=re.M | re.S | re.I)\n",
    "    text = re.sub('<.*?>', '', text, flags=re.M | re.S)\n",
    "    text = re.sub(r'(\\s*\\n)+', '\\n', text, flags=re.M | re.S)\n",
    "    return unescape(text)"
   ]
  },
  {
   "cell_type": "code",
   "execution_count": 18,
   "id": "1fef650f",
   "metadata": {},
   "outputs": [
    {
     "name": "stdout",
     "output_type": "stream",
     "text": [
      "<HTML><HEAD><TITLE></TITLE><META http-equiv=\"Content-Type\" content=\"text/html; charset=windows-1252\"><STYLE>A:link {TEX-DECORATION: none}A:active {TEXT-DECORATION: none}A:visited {TEXT-DECORATION: none}A:hover {COLOR: #0033ff; TEXT-DECORATION: underline}</STYLE><META content=\"MSHTML 6.00.2713.1100\" name=\"GENERATOR\"></HEAD>\n",
      "<BODY text=\"#000000\" vLink=\"#0033ff\" link=\"#0033ff\" bgColor=\"#CCCC99\"><TABLE borderColor=\"#660000\" cellSpacing=\"0\" cellPadding=\"0\" border=\"0\" width=\"100%\"><TR><TD bgColor=\"#CCCC99\" valign=\"top\" colspan=\"2\" height=\"27\">\n",
      "<font size=\"6\" face=\"Arial, Helvetica, sans-serif\" color=\"#660000\">\n",
      "<b>OTC</b></font></TD></TR><TR><TD height=\"2\" bgcolor=\"#6a694f\">\n",
      "<font size=\"5\" face=\"Times New Roman, Times, serif\" color=\"#FFFFFF\">\n",
      "<b>&nbsp;Newsletter</b></font></TD><TD height=\"2\" bgcolor=\"#6a694f\"><div align=\"right\"><font color=\"#FFFFFF\">\n",
      "<b>Discover Tomorrow's Winners&nbsp;</b></font></div></TD></TR><TR><TD height=\"25\" colspan=\"2\" bgcolor=\"#CCCC99\"><table width=\"100%\" border=\"0\"  ...\n"
     ]
    }
   ],
   "source": [
    "html_spam_emails = [email for email in X_train[y_train==1]\n",
    "                    if get_email_structure(email) == \"text/html\"]\n",
    "sample_html_spam = html_spam_emails[7]\n",
    "print(sample_html_spam.get_content().strip()[:1000], \"...\")"
   ]
  },
  {
   "cell_type": "code",
   "execution_count": 19,
   "id": "6a9a848c",
   "metadata": {},
   "outputs": [
    {
     "name": "stdout",
     "output_type": "stream",
     "text": [
      "\n",
      "OTC\n",
      " Newsletter\n",
      "Discover Tomorrow's Winners \n",
      "For Immediate Release\n",
      "Cal-Bay (Stock Symbol: CBYI)\n",
      "Watch for analyst \"Strong Buy Recommendations\" and several advisory newsletters picking CBYI.  CBYI has filed to be traded on the OTCBB, share prices historically INCREASE when companies get listed on this larger trading exchange. CBYI is trading around 25 cents and should skyrocket to $2.66 - $3.25 a share in the near future.\n",
      "Put CBYI on your watch list, acquire a position TODAY.\n",
      "REASONS TO INVEST IN CBYI\n",
      "A profitable company and is on track to beat ALL earnings estimates!\n",
      "One of the FASTEST growing distributors in environmental & safety equipment instruments.\n",
      "Excellent management team, several EXCLUSIVE contracts.  IMPRESSIVE client list including the U.S. Air Force, Anheuser-Busch, Chevron Refining and Mitsubishi Heavy Industries, GE-Energy & Environmental Research.\n",
      "RAPIDLY GROWING INDUSTRY\n",
      "Industry revenues exceed $900 million, estimates indicate that there could be as much as $25 billi ...\n"
     ]
    }
   ],
   "source": [
    "print(html_to_plain_text(sample_html_spam.get_content())[:1000], \"...\")"
   ]
  },
  {
   "cell_type": "markdown",
   "id": "135d56b7",
   "metadata": {},
   "source": [
    "## Convert email to plain text "
   ]
  },
  {
   "cell_type": "code",
   "execution_count": 20,
   "id": "5ddc008f",
   "metadata": {},
   "outputs": [],
   "source": [
    "def email_to_text(email):\n",
    "    html = None\n",
    "    for part in email.walk():\n",
    "        ctype = part.get_content_type()\n",
    "        if not ctype in (\"text/plain\", \"text/html\"):\n",
    "            continue\n",
    "        try:\n",
    "            content = part.get_content()\n",
    "        except:  # in case of encoding issues\n",
    "            content = str(part.get_payload())\n",
    "        if ctype == \"text/plain\":\n",
    "            return content\n",
    "        else:\n",
    "            html = content\n",
    "    if html:\n",
    "        return html_to_plain_text(html)"
   ]
  },
  {
   "cell_type": "code",
   "execution_count": 21,
   "id": "e64cfa27",
   "metadata": {},
   "outputs": [
    {
     "name": "stdout",
     "output_type": "stream",
     "text": [
      "\n",
      "OTC\n",
      " Newsletter\n",
      "Discover Tomorrow's Winners \n",
      "For Immediate Release\n",
      "Cal-Bay (Stock Symbol: CBYI)\n",
      "Wat ...\n"
     ]
    }
   ],
   "source": [
    "print(email_to_text(sample_html_spam)[:100], \"...\")"
   ]
  },
  {
   "cell_type": "markdown",
   "id": "b0048062",
   "metadata": {},
   "source": [
    "We will remove morphological affixes from words, leaving only the word stem by adding some stemming (using Natural Language Toolkit (NLTK))"
   ]
  },
  {
   "cell_type": "code",
   "execution_count": 22,
   "id": "53d66358",
   "metadata": {},
   "outputs": [
    {
     "name": "stdout",
     "output_type": "stream",
     "text": [
      "Calculation => calcul\n",
      "Calculated => calcul\n",
      "Calculate => calcul\n",
      "Calculating => calcul\n",
      "Calculator => calcul\n",
      "Calculates => calcul\n"
     ]
    }
   ],
   "source": [
    "import nltk\n",
    "\n",
    "stemmer = nltk.PorterStemmer()\n",
    "# For examples\n",
    "for word in (\"Calculation\", \"Calculated\", \"Calculate\", \"Calculating\", \"Calculator\",\n",
    "             \"Calculates\"):\n",
    "    print(word, \"=>\", stemmer.stem(word))"
   ]
  },
  {
   "cell_type": "markdown",
   "id": "e2ecad1c",
   "metadata": {},
   "source": [
    "We will also replace URLs."
   ]
  },
  {
   "cell_type": "code",
   "execution_count": 23,
   "id": "8488d83d",
   "metadata": {},
   "outputs": [
    {
     "name": "stdout",
     "output_type": "stream",
     "text": [
      "['youtube.com', 'https://www.youtube.com/watch?v=1RCMYG8RUSE&t=3418s']\n"
     ]
    }
   ],
   "source": [
    "import urlextract\n",
    "\n",
    "url_extractor = urlextract.URLExtract()\n",
    "# For examples\n",
    "some_text = \"CS50 - Lecture 7 - SQL on youtube.com: https://www.youtube.com/watch?v=1RCMYG8RUSE&t=3418s\"\n",
    "print(url_extractor.find_urls(some_text))"
   ]
  },
  {
   "cell_type": "markdown",
   "id": "3f3cf8f4",
   "metadata": {},
   "source": [
    "# Data Preparation"
   ]
  },
  {
   "cell_type": "markdown",
   "id": "856b8e6f",
   "metadata": {},
   "source": [
    "Put all this together into a transformer that we will use to convert **emails** to **word counters**. Note that we split sentences into words using Python's `split()` method, which uses whitespaces for word boundaries."
   ]
  },
  {
   "cell_type": "code",
   "execution_count": 24,
   "id": "6bb61ad7",
   "metadata": {},
   "outputs": [],
   "source": [
    "from sklearn.base import BaseEstimator, TransformerMixin\n",
    "\n",
    "class EmailToWordCounterTransformer(BaseEstimator, TransformerMixin):\n",
    "    def __init__(self, strip_headers=True, lower_case=True,\n",
    "                remove_punctuation=True, replace_urls=True,\n",
    "                replace_numbers=True, stemming=True):\n",
    "        self.strip_headers = strip_headers\n",
    "        self.lower_case = lower_case\n",
    "        self.remove_punctuation = remove_punctuation\n",
    "        self.replace_urls = replace_urls\n",
    "        self.replace_numbers = replace_numbers\n",
    "        self.stemming = stemming\n",
    "    def fit(self, X, y=None):\n",
    "        return self\n",
    "    def transform(self, X, y=None):\n",
    "        X_transformed = []\n",
    "        for email in X:\n",
    "            text = email_to_text(email) or \"\"\n",
    "            if self.lower_case:\n",
    "                text = text.lower()\n",
    "            if self.replace_urls and url_extractor is not None:\n",
    "                urls = list(set(url_extractor.find_urls(text)))\n",
    "                urls.sort(key=lambda url: len(url), reverse=True)\n",
    "                for url in urls:\n",
    "                    text = text.replace(url, \" URL \")\n",
    "            if self.replace_numbers:\n",
    "                text = re.sub(r'\\d+(?:\\.\\d*)?(?:[eE][+-]?\\d+)?', 'NUMBER', text)\n",
    "            if self.remove_punctuation:\n",
    "                text = re.sub(r'\\W+', ' ', text, flags=re.M)\n",
    "            word_counts = Counter(text.split())\n",
    "            if self.stemming and stemmer is not None:\n",
    "                stemmed_word_counts = Counter()\n",
    "                for word, count in word_counts.items():\n",
    "                    stemmed_word = stemmer.stem(word)\n",
    "                    stemmed_word_counts[stemmed_word] += count\n",
    "                word_counts = stemmed_word_counts\n",
    "            X_transformed.append(word_counts)\n",
    "        return np.array(X_transformed)"
   ]
  },
  {
   "cell_type": "code",
   "execution_count": 25,
   "id": "a0f02227",
   "metadata": {},
   "outputs": [
    {
     "data": {
      "text/plain": [
       "array([Counter({'chuck': 1, 'murcko': 1, 'wrote': 1, 'stuff': 1, 'yawn': 1, 'r': 1}),\n",
       "       Counter({'the': 11, 'of': 9, 'and': 8, 'all': 3, 'christian': 3, 'to': 3, 'by': 3, 'jefferson': 2, 'i': 2, 'have': 2, 'superstit': 2, 'one': 2, 'on': 2, 'been': 2, 'ha': 2, 'half': 2, 'rogueri': 2, 'teach': 2, 'jesu': 2, 'some': 1, 'interest': 1, 'quot': 1, 'url': 1, 'thoma': 1, 'examin': 1, 'known': 1, 'word': 1, 'do': 1, 'not': 1, 'find': 1, 'in': 1, 'our': 1, 'particular': 1, 'redeem': 1, 'featur': 1, 'they': 1, 'are': 1, 'alik': 1, 'found': 1, 'fabl': 1, 'mytholog': 1, 'million': 1, 'innoc': 1, 'men': 1, 'women': 1, 'children': 1, 'sinc': 1, 'introduct': 1, 'burnt': 1, 'tortur': 1, 'fine': 1, 'imprison': 1, 'what': 1, 'effect': 1, 'thi': 1, 'coercion': 1, 'make': 1, 'world': 1, 'fool': 1, 'other': 1, 'hypocrit': 1, 'support': 1, 'error': 1, 'over': 1, 'earth': 1, 'six': 1, 'histor': 1, 'american': 1, 'john': 1, 'e': 1, 'remsburg': 1, 'letter': 1, 'william': 1, 'short': 1, 'again': 1, 'becom': 1, 'most': 1, 'pervert': 1, 'system': 1, 'that': 1, 'ever': 1, 'shone': 1, 'man': 1, 'absurd': 1, 'untruth': 1, 'were': 1, 'perpetr': 1, 'upon': 1, 'a': 1, 'larg': 1, 'band': 1, 'dupe': 1, 'import': 1, 'led': 1, 'paul': 1, 'first': 1, 'great': 1, 'corrupt': 1}),\n",
       "       Counter({'url': 4, 's': 3, 'group': 3, 'to': 3, 'in': 2, 'forteana': 2, 'martin': 2, 'an': 2, 'and': 2, 'we': 2, 'is': 2, 'yahoo': 2, 'unsubscrib': 2, 'y': 1, 'adamson': 1, 'wrote': 1, 'for': 1, 'altern': 1, 'rather': 1, 'more': 1, 'factual': 1, 'base': 1, 'rundown': 1, 'on': 1, 'hamza': 1, 'career': 1, 'includ': 1, 'hi': 1, 'belief': 1, 'that': 1, 'all': 1, 'non': 1, 'muslim': 1, 'yemen': 1, 'should': 1, 'be': 1, 'murder': 1, 'outright': 1, 'know': 1, 'how': 1, 'unbias': 1, 'memri': 1, 'don': 1, 't': 1, 'html': 1, 'rob': 1, 'sponsor': 1, 'number': 1, 'dvd': 1, 'free': 1, 'p': 1, 'join': 1, 'now': 1, 'from': 1, 'thi': 1, 'send': 1, 'email': 1, 'egroup': 1, 'com': 1, 'your': 1, 'use': 1, 'of': 1, 'subject': 1})],\n",
       "      dtype=object)"
      ]
     },
     "execution_count": 25,
     "metadata": {},
     "output_type": "execute_result"
    }
   ],
   "source": [
    "# Examples\n",
    "X_example = X_train[:3]\n",
    "X_example_wordcounts = EmailToWordCounterTransformer().fit_transform(X_example)\n",
    "X_example_wordcounts"
   ]
  },
  {
   "cell_type": "markdown",
   "id": "0f099028",
   "metadata": {},
   "source": [
    "Next we need to convert the **WordCounter** to the **Vector**. For this, we will build another transformer whose `fit()` method will build the vocabulary (an ordered list of the most common words) and whose `transform()` method will use the vocabulary to convert word counts to vectors. The output is a sparse matrix."
   ]
  },
  {
   "cell_type": "code",
   "execution_count": 26,
   "id": "c372bf69",
   "metadata": {},
   "outputs": [],
   "source": [
    "from scipy.sparse import csr_matrix\n",
    "\n",
    "class WordCounterToVectorTransformer(BaseEstimator, TransformerMixin):\n",
    "    def __init__(self, vocabulary_size=1000): # We set the default vocabulary_size is 1000\n",
    "        self.vocabulary_size = vocabulary_size\n",
    "    def fit(self, X, y=None):\n",
    "        # Iteration over each document's word counts, updating a Counter object to keep track of the \n",
    "        # total count of each word across all documents. Then, it selects the most common words up to vocabulary_size\n",
    "        # For example, vocabulary_size=10 so we choose the top 10 most common words and then assigns an index to each word\n",
    "        # Stores the vocabulary in the vocabulary_ attribute of the transformer.\n",
    "        total_count = Counter()\n",
    "        for word_count in X:\n",
    "            for word, count in word_count.items():\n",
    "                total_count[word] += count\n",
    "        most_common = total_count.most_common()[:self.vocabulary_size]\n",
    "        self.vocabulary_ = {word: index + 1\n",
    "                            for index, (word, count) in enumerate(most_common)}\n",
    "        return self\n",
    "    def transform(self, X, y=None):\n",
    "        rows = []\n",
    "        cols = []\n",
    "        data = []\n",
    "        for row, word_count in enumerate(X):\n",
    "            for word, count in word_count.items():\n",
    "                rows.append(row)\n",
    "                cols.append(self.vocabulary_.get(word, 0))\n",
    "                data.append(count)\n",
    "        return csr_matrix((data, (rows, cols)),\n",
    "                          shape=(len(X), self.vocabulary_size + 1))"
   ]
  },
  {
   "cell_type": "code",
   "execution_count": 27,
   "id": "8b5c9cb8",
   "metadata": {},
   "outputs": [
    {
     "data": {
      "text/plain": [
       "<3x11 sparse matrix of type '<class 'numpy.intc'>'\n",
       "\twith 20 stored elements in Compressed Sparse Row format>"
      ]
     },
     "execution_count": 27,
     "metadata": {},
     "output_type": "execute_result"
    }
   ],
   "source": [
    "vocab_transformer = WordCounterToVectorTransformer(vocabulary_size=10)\n",
    "X_example_vectors = vocab_transformer.fit_transform(X_example_wordcounts)\n",
    "X_example_vectors"
   ]
  },
  {
   "cell_type": "code",
   "execution_count": 28,
   "id": "9420b262",
   "metadata": {},
   "outputs": [
    {
     "data": {
      "text/plain": [
       "array([[ 6,  0,  0,  0,  0,  0,  0,  0,  0,  0,  0],\n",
       "       [99, 11,  9,  8,  3,  1,  3,  1,  3,  2,  3],\n",
       "       [67,  0,  1,  2,  3,  4,  1,  2,  0,  1,  0]], dtype=int32)"
      ]
     },
     "execution_count": 28,
     "metadata": {},
     "output_type": "execute_result"
    }
   ],
   "source": [
    "X_example_vectors.toarray()"
   ]
  },
  {
   "cell_type": "markdown",
   "id": "c1854fe5",
   "metadata": {},
   "source": [
    "**Explain about the example :**\n",
    "- In the second email (second row) : the 99 in the second row, first column, means that the second email contains 99 words that are not part of the vocabulary. The 11 next to it means that the first word in the vocabulary is present 11 times in this email. The 9 next to it means that the second word is present 9 times, and so on. You can look at the vocabulary to know which words we are talking about. The first word is \"the\", the second word is \"of\", etc.\n",
    "- In the first email : the value 6 means that the first email contains 6 words that are not part of the vocabulary, i.e, the words : {chuck, murcko, wrote, stuff, yawn, r} are not in the top 10 most-common vocabulary"
   ]
  },
  {
   "cell_type": "markdown",
   "id": "d016cc59",
   "metadata": {},
   "source": [
    "And here is the top-10 most-common words in the example vocabulary"
   ]
  },
  {
   "cell_type": "code",
   "execution_count": 29,
   "id": "05266cc6",
   "metadata": {},
   "outputs": [
    {
     "data": {
      "text/plain": [
       "{'the': 1,\n",
       " 'of': 2,\n",
       " 'and': 3,\n",
       " 'to': 4,\n",
       " 'url': 5,\n",
       " 'all': 6,\n",
       " 'in': 7,\n",
       " 'christian': 8,\n",
       " 'on': 9,\n",
       " 'by': 10}"
      ]
     },
     "execution_count": 29,
     "metadata": {},
     "output_type": "execute_result"
    }
   ],
   "source": [
    "vocab_transformer.vocabulary_"
   ]
  },
  {
   "cell_type": "markdown",
   "id": "74605fc5",
   "metadata": {},
   "source": [
    "## Transformation Pipelines"
   ]
  },
  {
   "cell_type": "code",
   "execution_count": 30,
   "id": "15168523",
   "metadata": {},
   "outputs": [],
   "source": [
    "from sklearn.pipeline import Pipeline\n",
    "\n",
    "preprocess_pipeline = Pipeline([\n",
    "    (\"email_to_wordcount\", EmailToWordCounterTransformer()),\n",
    "    (\"wordcount_to_vector\", WordCounterToVectorTransformer()),\n",
    "])\n",
    "\n",
    "X_train_transformed = preprocess_pipeline.fit_transform(X_train)"
   ]
  },
  {
   "cell_type": "code",
   "execution_count": 31,
   "id": "37373929",
   "metadata": {},
   "outputs": [
    {
     "data": {
      "text/plain": [
       "<2400x1001 sparse matrix of type '<class 'numpy.intc'>'\n",
       "\twith 187908 stored elements in Compressed Sparse Row format>"
      ]
     },
     "execution_count": 31,
     "metadata": {},
     "output_type": "execute_result"
    }
   ],
   "source": [
    "X_train_transformed"
   ]
  },
  {
   "cell_type": "code",
   "execution_count": 32,
   "id": "69ff06b0",
   "metadata": {},
   "outputs": [
    {
     "data": {
      "text/plain": [
       "array([[ 3,  0,  0, ...,  0,  0,  0],\n",
       "       [41,  0, 11, ...,  0,  0,  0],\n",
       "       [16,  1,  0, ...,  0,  0,  0],\n",
       "       ...,\n",
       "       [32,  0,  5, ...,  0,  0,  0],\n",
       "       [27,  0,  0, ...,  0,  0,  0],\n",
       "       [ 9,  8,  1, ...,  0,  0,  0]], dtype=int32)"
      ]
     },
     "execution_count": 32,
     "metadata": {},
     "output_type": "execute_result"
    }
   ],
   "source": [
    "X_train_transformed[:10].toarray()"
   ]
  },
  {
   "cell_type": "markdown",
   "id": "54217bd9",
   "metadata": {},
   "source": [
    "# Training Model"
   ]
  },
  {
   "cell_type": "markdown",
   "id": "1a3beab8",
   "metadata": {},
   "source": [
    "## Logistic Regression"
   ]
  },
  {
   "cell_type": "code",
   "execution_count": 33,
   "id": "711d7318",
   "metadata": {},
   "outputs": [],
   "source": [
    "from sklearn.linear_model import LogisticRegression\n",
    "from sklearn.model_selection import cross_val_score\n",
    "\n",
    "log_clf = LogisticRegression(max_iter=1000, random_state=42)\n",
    "log_score = cross_val_score(log_clf, X_train_transformed, y_train, cv=10)"
   ]
  },
  {
   "cell_type": "markdown",
   "id": "843796c3",
   "metadata": {},
   "source": [
    "## KNeighbors Classifier"
   ]
  },
  {
   "cell_type": "code",
   "execution_count": 34,
   "id": "25ec7ea2",
   "metadata": {},
   "outputs": [],
   "source": [
    "from sklearn.neighbors import KNeighborsClassifier\n",
    "\n",
    "knn_clf = KNeighborsClassifier()\n",
    "knn_score = cross_val_score(knn_clf, X_train_transformed, y_train, cv=10)"
   ]
  },
  {
   "cell_type": "markdown",
   "id": "664d2649",
   "metadata": {},
   "source": [
    "## Compare Two models"
   ]
  },
  {
   "cell_type": "code",
   "execution_count": 35,
   "id": "db94e77f",
   "metadata": {},
   "outputs": [
    {
     "data": {
      "image/png": "[encoded data removed]",
      "text/plain": [
       "<Figure size 800x400 with 1 Axes>"
      ]
     },
     "metadata": {},
     "output_type": "display_data"
    }
   ],
   "source": [
    "import matplotlib.pyplot as plt\n",
    "\n",
    "plt.figure(figsize=(8, 4))\n",
    "plt.plot([1]*10, log_score, \".\")\n",
    "plt.plot([2]*10, knn_score, \".\")\n",
    "plt.boxplot([log_score, knn_score], labels=(\"Logistic Regression\", \"KNeighbors\"))\n",
    "plt.ylabel(\"Accuracy\")\n",
    "plt.show()"
   ]
  },
  {
   "cell_type": "markdown",
   "id": "60652115",
   "metadata": {},
   "source": [
    "As we can see, the **Logistic Regression** model has a better performance than the **KNeighbors Classifier**"
   ]
  },
  {
   "cell_type": "code",
   "execution_count": 36,
   "id": "749cfda1",
   "metadata": {},
   "outputs": [],
   "source": [
    "X_test_transformed = preprocess_pipeline.transform(X_test)"
   ]
  },
  {
   "cell_type": "markdown",
   "id": "dbe0b6e2",
   "metadata": {},
   "source": [
    "## Fine-Tune The Logistic Regression Model"
   ]
  },
  {
   "cell_type": "code",
   "execution_count": 37,
   "id": "856e3b18",
   "metadata": {},
   "outputs": [
    {
     "data": {
      "text/html": [
       "<style>#sk-container-id-1 {color: black;}#sk-container-id-1 pre{padding: 0;}#sk-container-id-1 div.sk-toggleable {background-color: white;}#sk-container-id-1 label.sk-toggleable__label {cursor: pointer;display: block;width: 100%;margin-bottom: 0;padding: 0.3em;box-sizing: border-box;text-align: center;}#sk-container-id-1 label.sk-toggleable__label-arrow:before {content: \"▸\";float: left;margin-right: 0.25em;color: #696969;}#sk-container-id-1 label.sk-toggleable__label-arrow:hover:before {color: black;}#sk-container-id-1 div.sk-estimator:hover label.sk-toggleable__label-arrow:before {color: black;}#sk-container-id-1 div.sk-toggleable__content {max-height: 0;max-width: 0;overflow: hidden;text-align: left;background-color: #f0f8ff;}#sk-container-id-1 div.sk-toggleable__content pre {margin: 0.2em;color: black;border-radius: 0.25em;background-color: #f0f8ff;}#sk-container-id-1 input.sk-toggleable__control:checked~div.sk-toggleable__content {max-height: 200px;max-width: 100%;overflow: auto;}#sk-container-id-1 input.sk-toggleable__control:checked~label.sk-toggleable__label-arrow:before {content: \"▾\";}#sk-container-id-1 div.sk-estimator input.sk-toggleable__control:checked~label.sk-toggleable__label {background-color: #d4ebff;}#sk-container-id-1 div.sk-label input.sk-toggleable__control:checked~label.sk-toggleable__label {background-color: #d4ebff;}#sk-container-id-1 input.sk-hidden--visually {border: 0;clip: rect(1px 1px 1px 1px);clip: rect(1px, 1px, 1px, 1px);height: 1px;margin: -1px;overflow: hidden;padding: 0;position: absolute;width: 1px;}#sk-container-id-1 div.sk-estimator {font-family: monospace;background-color: #f0f8ff;border: 1px dotted black;border-radius: 0.25em;box-sizing: border-box;margin-bottom: 0.5em;}#sk-container-id-1 div.sk-estimator:hover {background-color: #d4ebff;}#sk-container-id-1 div.sk-parallel-item::after {content: \"\";width: 100%;border-bottom: 1px solid gray;flex-grow: 1;}#sk-container-id-1 div.sk-label:hover label.sk-toggleable__label {background-color: #d4ebff;}#sk-container-id-1 div.sk-serial::before {content: \"\";position: absolute;border-left: 1px solid gray;box-sizing: border-box;top: 0;bottom: 0;left: 50%;z-index: 0;}#sk-container-id-1 div.sk-serial {display: flex;flex-direction: column;align-items: center;background-color: white;padding-right: 0.2em;padding-left: 0.2em;position: relative;}#sk-container-id-1 div.sk-item {position: relative;z-index: 1;}#sk-container-id-1 div.sk-parallel {display: flex;align-items: stretch;justify-content: center;background-color: white;position: relative;}#sk-container-id-1 div.sk-item::before, #sk-container-id-1 div.sk-parallel-item::before {content: \"\";position: absolute;border-left: 1px solid gray;box-sizing: border-box;top: 0;bottom: 0;left: 50%;z-index: -1;}#sk-container-id-1 div.sk-parallel-item {display: flex;flex-direction: column;z-index: 1;position: relative;background-color: white;}#sk-container-id-1 div.sk-parallel-item:first-child::after {align-self: flex-end;width: 50%;}#sk-container-id-1 div.sk-parallel-item:last-child::after {align-self: flex-start;width: 50%;}#sk-container-id-1 div.sk-parallel-item:only-child::after {width: 0;}#sk-container-id-1 div.sk-dashed-wrapped {border: 1px dashed gray;margin: 0 0.4em 0.5em 0.4em;box-sizing: border-box;padding-bottom: 0.4em;background-color: white;}#sk-container-id-1 div.sk-label label {font-family: monospace;font-weight: bold;display: inline-block;line-height: 1.2em;}#sk-container-id-1 div.sk-label-container {text-align: center;}#sk-container-id-1 div.sk-container {/* jupyter's `normalize.less` sets `[hidden] { display: none; }` but bootstrap.min.css set `[hidden] { display: none !important; }` so we also need the `!important` here to be able to override the default hidden behavior on the sphinx rendered scikit-learn.org. See: https://github.com/scikit-learn/scikit-learn/issues/21755 */display: inline-block !important;position: relative;}#sk-container-id-1 div.sk-text-repr-fallback {display: none;}</style><div id=\"sk-container-id-1\" class=\"sk-top-container\"><div class=\"sk-text-repr-fallback\"><pre>RandomizedSearchCV(cv=5,\n",
       "                   estimator=LogisticRegression(max_iter=1000, random_state=42),\n",
       "                   param_distributions={&#x27;C&#x27;: &lt;scipy.stats._distn_infrastructure.rv_continuous_frozen object at 0x0000018044DBFCD0&gt;},\n",
       "                   random_state=42)</pre><b>In a Jupyter environment, please rerun this cell to show the HTML representation or trust the notebook. <br />On GitHub, the HTML representation is unable to render, please try loading this page with nbviewer.org.</b></div><div class=\"sk-container\" hidden><div class=\"sk-item sk-dashed-wrapped\"><div class=\"sk-label-container\"><div class=\"sk-label sk-toggleable\"><input class=\"sk-toggleable__control sk-hidden--visually\" id=\"sk-estimator-id-1\" type=\"checkbox\" ><label for=\"sk-estimator-id-1\" class=\"sk-toggleable__label sk-toggleable__label-arrow\">RandomizedSearchCV</label><div class=\"sk-toggleable__content\"><pre>RandomizedSearchCV(cv=5,\n",
       "                   estimator=LogisticRegression(max_iter=1000, random_state=42),\n",
       "                   param_distributions={&#x27;C&#x27;: &lt;scipy.stats._distn_infrastructure.rv_continuous_frozen object at 0x0000018044DBFCD0&gt;},\n",
       "                   random_state=42)</pre></div></div></div><div class=\"sk-parallel\"><div class=\"sk-parallel-item\"><div class=\"sk-item\"><div class=\"sk-label-container\"><div class=\"sk-label sk-toggleable\"><input class=\"sk-toggleable__control sk-hidden--visually\" id=\"sk-estimator-id-2\" type=\"checkbox\" ><label for=\"sk-estimator-id-2\" class=\"sk-toggleable__label sk-toggleable__label-arrow\">estimator: LogisticRegression</label><div class=\"sk-toggleable__content\"><pre>LogisticRegression(max_iter=1000, random_state=42)</pre></div></div></div><div class=\"sk-serial\"><div class=\"sk-item\"><div class=\"sk-estimator sk-toggleable\"><input class=\"sk-toggleable__control sk-hidden--visually\" id=\"sk-estimator-id-3\" type=\"checkbox\" ><label for=\"sk-estimator-id-3\" class=\"sk-toggleable__label sk-toggleable__label-arrow\">LogisticRegression</label><div class=\"sk-toggleable__content\"><pre>LogisticRegression(max_iter=1000, random_state=42)</pre></div></div></div></div></div></div></div></div></div></div>"
      ],
      "text/plain": [
       "RandomizedSearchCV(cv=5,\n",
       "                   estimator=LogisticRegression(max_iter=1000, random_state=42),\n",
       "                   param_distributions={'C': <scipy.stats._distn_infrastructure.rv_continuous_frozen object at 0x0000018044DBFCD0>},\n",
       "                   random_state=42)"
      ]
     },
     "execution_count": 37,
     "metadata": {},
     "output_type": "execute_result"
    }
   ],
   "source": [
    "from sklearn.model_selection import RandomizedSearchCV\n",
    "from scipy.stats import uniform\n",
    "\n",
    "param_distribs = {\n",
    "    'C' : uniform(loc=0, scale=4)\n",
    "}\n",
    "\n",
    "random_search = RandomizedSearchCV(log_clf, param_distribs, n_iter=10, cv=5, random_state=42)\n",
    "random_search.fit(X_train_transformed, y_train)"
   ]
  },
  {
   "cell_type": "code",
   "execution_count": 38,
   "id": "d5653eaa",
   "metadata": {},
   "outputs": [
    {
     "data": {
      "text/plain": [
       "{'C': 1.49816047538945}"
      ]
     },
     "execution_count": 38,
     "metadata": {},
     "output_type": "execute_result"
    }
   ],
   "source": [
    "random_search.best_params_"
   ]
  },
  {
   "cell_type": "code",
   "execution_count": 39,
   "id": "fac2adb6",
   "metadata": {},
   "outputs": [
    {
     "data": {
      "text/plain": [
       "0.9870833333333333"
      ]
     },
     "execution_count": 39,
     "metadata": {},
     "output_type": "execute_result"
    }
   ],
   "source": [
    "random_search.best_score_"
   ]
  },
  {
   "cell_type": "markdown",
   "id": "bc273773",
   "metadata": {},
   "source": [
    "## Accuracy"
   ]
  },
  {
   "cell_type": "code",
   "execution_count": 40,
   "id": "24ba0649",
   "metadata": {},
   "outputs": [
    {
     "data": {
      "text/plain": [
       "0.99"
      ]
     },
     "execution_count": 40,
     "metadata": {},
     "output_type": "execute_result"
    }
   ],
   "source": [
    "random_search.best_estimator_.fit(X_train_transformed, y_train)\n",
    "tuned_accuracy = random_search.score(X_test_transformed, y_test)\n",
    "tuned_accuracy"
   ]
  },
  {
   "cell_type": "markdown",
   "id": "b4a76ece",
   "metadata": {},
   "source": [
    "## Precision / Recall"
   ]
  },
  {
   "cell_type": "code",
   "execution_count": 41,
   "id": "961c1752",
   "metadata": {},
   "outputs": [
    {
     "name": "stdout",
     "output_type": "stream",
     "text": [
      "Precision: 95.88%\n",
      "Recall: 97.89%\n"
     ]
    }
   ],
   "source": [
    "from sklearn.metrics import precision_score, recall_score\n",
    "\n",
    "log_clf = random_search.best_estimator_\n",
    "log_clf.fit(X_train_transformed, y_train)\n",
    "\n",
    "y_pred = log_clf.predict(X_test_transformed)\n",
    "\n",
    "print(f\"Precision: {precision_score(y_test, y_pred):.2%}\")\n",
    "print(f\"Recall: {recall_score(y_test, y_pred):.2%}\")"
   ]
  },
  {
   "cell_type": "markdown",
   "id": "22543520",
   "metadata": {},
   "source": [
    "## Save the final model"
   ]
  },
  {
   "cell_type": "code",
   "execution_count": 42,
   "id": "6b96a604",
   "metadata": {},
   "outputs": [
    {
     "data": {
      "text/plain": [
       "['spam_email_classification.pkl']"
      ]
     },
     "execution_count": 42,
     "metadata": {},
     "output_type": "execute_result"
    }
   ],
   "source": [
    "import joblib\n",
    "\n",
    "joblib.dump(random_search.best_estimator_, \"spam_email_classification.pkl\")"
   ]
  },
  {
   "cell_type": "markdown",
   "id": "70c0ca90",
   "metadata": {},
   "source": [
    "## Deploy the model"
   ]
  },
  {
   "cell_type": "code",
   "execution_count": 60,
   "id": "4979e2a6",
   "metadata": {},
   "outputs": [],
   "source": [
    "def column_ratio(X):\n",
    "    return X[:, [0]] / X[:, [1]]\n",
    "\n",
    "final_model_reloaded = joblib.load(\"spam_email_classification.pkl\")\n",
    "\n",
    "new_data = X_train_transformed[:50]  # pretend these are new data\n",
    "predictions = final_model_reloaded.predict(new_data)"
   ]
  },
  {
   "cell_type": "code",
   "execution_count": 61,
   "id": "d361a3dd",
   "metadata": {},
   "outputs": [
    {
     "data": {
      "text/plain": [
       "array([0, 0, 0, 0, 0, 0, 0, 0, 1, 0, 1, 0, 1, 0, 0, 1, 0, 0, 0, 0, 1, 0,\n",
       "       0, 0, 1, 0, 0, 0, 0, 0, 0, 1, 1, 0, 1, 0, 1, 0, 1, 0, 0, 0, 0, 1,\n",
       "       0, 0, 1, 0, 0, 0])"
      ]
     },
     "execution_count": 61,
     "metadata": {},
     "output_type": "execute_result"
    }
   ],
   "source": [
    "predictions"
   ]
  },
  {
   "cell_type": "code",
   "execution_count": 62,
   "id": "dad7de87",
   "metadata": {},
   "outputs": [
    {
     "data": {
      "text/plain": [
       "array([Counter({'chuck': 1, 'murcko': 1, 'wrote': 1, 'stuff': 1, 'yawn': 1, 'r': 1}),\n",
       "       Counter({'the': 11, 'of': 9, 'and': 8, 'all': 3, 'christian': 3, 'to': 3, 'by': 3, 'jefferson': 2, 'i': 2, 'have': 2, 'superstit': 2, 'one': 2, 'on': 2, 'been': 2, 'ha': 2, 'half': 2, 'rogueri': 2, 'teach': 2, 'jesu': 2, 'some': 1, 'interest': 1, 'quot': 1, 'url': 1, 'thoma': 1, 'examin': 1, 'known': 1, 'word': 1, 'do': 1, 'not': 1, 'find': 1, 'in': 1, 'our': 1, 'particular': 1, 'redeem': 1, 'featur': 1, 'they': 1, 'are': 1, 'alik': 1, 'found': 1, 'fabl': 1, 'mytholog': 1, 'million': 1, 'innoc': 1, 'men': 1, 'women': 1, 'children': 1, 'sinc': 1, 'introduct': 1, 'burnt': 1, 'tortur': 1, 'fine': 1, 'imprison': 1, 'what': 1, 'effect': 1, 'thi': 1, 'coercion': 1, 'make': 1, 'world': 1, 'fool': 1, 'other': 1, 'hypocrit': 1, 'support': 1, 'error': 1, 'over': 1, 'earth': 1, 'six': 1, 'histor': 1, 'american': 1, 'john': 1, 'e': 1, 'remsburg': 1, 'letter': 1, 'william': 1, 'short': 1, 'again': 1, 'becom': 1, 'most': 1, 'pervert': 1, 'system': 1, 'that': 1, 'ever': 1, 'shone': 1, 'man': 1, 'absurd': 1, 'untruth': 1, 'were': 1, 'perpetr': 1, 'upon': 1, 'a': 1, 'larg': 1, 'band': 1, 'dupe': 1, 'import': 1, 'led': 1, 'paul': 1, 'first': 1, 'great': 1, 'corrupt': 1}),\n",
       "       Counter({'url': 4, 's': 3, 'group': 3, 'to': 3, 'in': 2, 'forteana': 2, 'martin': 2, 'an': 2, 'and': 2, 'we': 2, 'is': 2, 'yahoo': 2, 'unsubscrib': 2, 'y': 1, 'adamson': 1, 'wrote': 1, 'for': 1, 'altern': 1, 'rather': 1, 'more': 1, 'factual': 1, 'base': 1, 'rundown': 1, 'on': 1, 'hamza': 1, 'career': 1, 'includ': 1, 'hi': 1, 'belief': 1, 'that': 1, 'all': 1, 'non': 1, 'muslim': 1, 'yemen': 1, 'should': 1, 'be': 1, 'murder': 1, 'outright': 1, 'know': 1, 'how': 1, 'unbias': 1, 'memri': 1, 'don': 1, 't': 1, 'html': 1, 'rob': 1, 'sponsor': 1, 'number': 1, 'dvd': 1, 'free': 1, 'p': 1, 'join': 1, 'now': 1, 'from': 1, 'thi': 1, 'send': 1, 'email': 1, 'egroup': 1, 'com': 1, 'your': 1, 'use': 1, 'of': 1, 'subject': 1}),\n",
       "       Counter({'to': 6, 'anthoni': 2, 'i': 2, 'url': 2, 'a': 2, 'or': 2, 'it': 2, 'skip': 1, 'montanaro': 1, 'baxter': 1, 'accordingli': 1, 'wrote': 1, 'which': 1, 'is': 1, 'mostli': 1, 'ripoff': 1, 'of': 1, 'someth': 1, 'someon': 1, 'els': 1, 'post': 1, 'python': 1, 'dev': 1, 'within': 1, 'the': 1, 'last': 1, 'week': 1, 'so': 1, 'strip': 1, 'out': 1, 'sa': 1, 'gener': 1, 'header': 1, 'unless': 1, 've': 1, 'grown': 1, 'senil': 1, 'tonight': 1, 'you': 1, 'got': 1, 'from': 1, 'begin': 1, 'with': 1, 'pleas': 1, 'check': 1, 'in': 1, 'project': 1, 'and': 1, 'add': 1, 'short': 1, 'blurb': 1, 'readm': 1, 'txt': 1}),\n",
       "       Counter({'a': 8, 'the': 6, 'toni': 5, 'folder': 5, 'number': 4, 'in': 3, 'you': 3, 'exmh': 3, 'on': 2, 'to': 2, 'for': 2, 'link': 2, 'or': 2, 'move': 2, 'list': 2, 'mode': 2, 'hit': 2, 'and': 2, 'user': 2, 'fri': 1, 'sep': 1, 'nugent': 1, 'wrote': 1, 'essenc': 1, 'is': 1, 'there': 1, 'way': 1, 'mark': 1, 'destin': 1, 'messag': 1, 'without': 1, 'actual': 1, 'do': 1, 'i': 1, 'couldn': 1, 't': 1, 'see': 1, 'anyth': 1, 'obviou': 1, 'right': 1, 'click': 1, 'label': 1, 'main': 1, 'window': 1, 'key': 1, 'put': 1, 'into': 1, 'chang': 1, 'first': 1, 'time': 1, 'use': 1, 'it': 1, 'after': 1, 'start': 1, 'second': 1, 'go': 1, 'set': 1, 'target': 1, 'type': 1, 'few': 1, 'charact': 1, 'of': 1, 'name': 1, 'space': 1, 'autocomplet': 1, 'hal': 1, 'how': 1, 's': 1, 'spring': 1, 'shape': 1, 'up': 1, 'down': 1, 'under': 1, '_______________________________________________': 1, 'mail': 1, 'redhat': 1, 'com': 1, 'url': 1}),\n",
       "       Counter({'number': 8, 'razor': 8, 'i': 8, 'thi': 6, 'url': 6, 'the': 5, 'list': 5, 'a': 5, 'spamassassin': 4, 'is': 4, 'user': 4, 'on': 3, 'for': 3, 'run': 3, 'of': 3, 'so': 3, 'd': 3, 'here': 3, 'line': 3, 'first': 2, 'it': 2, 'to': 2, 'm': 2, 'with': 2, 'or': 2, 'messag': 2, 'razornumb': 2, 'email': 2, 'sponsor': 2, 'by': 2, 'osdn': 2, 'tire': 2, 'that': 2, 'same': 2, 'old': 2, 'cell': 2, 'phone': 2, 'get': 2, 'new': 2, 'free': 2, '_______________________________________________': 2, 'mail': 2, 'sourceforg': 2, 'net': 2, 'you': 1, 'might': 1, 'be': 1, 'better': 1, 'ask': 1, 'talk': 1, 'folk': 1, 'there': 1, 'will': 1, 'almost': 1, 'definit': 1, 'have': 1, 'an': 1, 'answer': 1, 'thu': 1, 'sep': 1, 'david': 1, 'ree': 1, 'wrote': 1, 'my': 1, 'time': 1, 'heard': 1, 'lot': 1, 'good': 1, 'thing': 1, 'about': 1, 'thought': 1, 'give': 1, 'shot': 1, 'also': 1, 'like': 1, 'integr': 1, 'two': 1, 'not': 1, 'sure': 1, 'if': 1, 'problem': 1, 'though': 1, 'shoot': 1, 'freshli': 1, 'instal': 1, 'and': 1, 'see': 1, 'these': 1, 'spit': 1, 'out': 1, 'from': 1, 'spamd': 1, 'check': 1, 'skip': 1, 'no': 1, 'such': 1, 'file': 1, 'directori': 1, 'can': 1, 't': 1, 'call': 1, 'method': 1, 'log': 1, 'unbless': 1, 'refer': 1, 'at': 1, 'usr': 1, 'lib': 1, 'perlnumb': 1, 'site_perl': 1, 'client': 1, 'agent': 1, 'pm': 1, 'stdin': 1, 'ani': 1, 'idea': 1, 'seem': 1, 'correctli': 1, 'over': 1, 'command': 1, 'thank': 1, 'dave': 1}),\n",
       "       Counter({'a': 10, 'i': 7, 'to': 7, 'song': 5, 'the': 4, 'and': 4, 'url': 4, 'of': 3, 'playlist': 3, 'digit': 3, 'is': 3, 'not': 3, 'their': 3, 'm': 3, 'up': 3, 'law': 2, 'can': 2, 'number': 2, 'from': 2, 'inform': 2, 'that': 2, 'if': 2, 'it': 2, 'websit': 2, 'with': 2, 'servic': 2, 'as': 2, 'info': 2, 'my': 2, 'anyon': 1, 'heard': 1, 'thi': 1, 'befor': 1, 'q': 1, 'get': 1, 'we': 1, 'are': 1, 'unabl': 1, 'offer': 1, 'perform': 1, 'right': 1, 'in': 1, 'sound': 1, 'record': 1, 'act': 1, 'pass': 1, 'by': 1, 'congress': 1, 'prevent': 1, 'us': 1, 'disclos': 1, 'such': 1, 'state': 1, 'one': 1, 'transmit': 1, 'signal': 1, 'cannot': 1, 'be': 1, 'pre': 1, 'announc': 1, 'music': 1, 'choic': 1, 'polici': 1, 'releas': 1, 'upcom': 1, 'or': 1, 'previous': 1, 'play': 1, 'recent': 1, 'musicchoic': 1, 'upgrad': 1, 'veri': 1, 'import': 1, 'far': 1, 'concern': 1, 'real': 1, 'time': 1, 'directv': 1, 'receiv': 1, 'on': 1, 'shelf': 1, 'display': 1, 'scroll': 1, 'intermitt': 1, 'sure': 1, 'go': 1, 'fire': 1, 'projector': 1, 'while': 1, 'listen': 1, 'radio': 1, 'so': 1, 'quit': 1, 'happi': 1, 'retriev': 1, 'r': 1, 't': 1, 'like': 1, 'etc': 1, 'now': 1, 'were': 1, 'more': 1, 'eager': 1, 'hacker': 1, 'd': 1, 'write': 1, 'littl': 1, 'wsdl': 1, 'stub': 1, 'for': 1, 'these': 1, 'event': 1, 'stream': 1, 'they': 1, 're': 1, 'clearli': 1, 'worri': 1, 'about': 1, 'load': 1, 'sinc': 1, 'own': 1, 'web': 1, 'page': 1, 'specifi': 1, 'sec': 1, 'meta': 1, 'refresh': 1, 'then': 1, 'feed': 1, 'em': 1, 'through': 1, 'content': 1, 'router': 1, 'alert': 1, 'me': 1, 'cool': 1, 'heck': 1, 'cross': 1, 'refer': 1, 'cddb': 1, 'rk': 1}),\n",
       "       Counter({'i': 8, 'to': 6, 'html': 6, 'a': 6, 'the': 5, 'in': 5, 'd': 4, 'strip': 4, 'that': 4, 'thi': 4, 'get': 4, 'but': 3, 'it': 3, 'on': 3, 'text': 3, 'like': 3, 'tag': 2, 'from': 2, 'time': 2, 'rate': 2, 'my': 2, 'corpora': 2, 'though': 2, 's': 2, 'good': 2, 'corpu': 2, 'than': 2, 'save': 2, 't': 2, 'much': 2, 'so': 2, 'url': 2, 'too': 2, 'prefer': 1, 'everyth': 1, 'last': 1, 'tri': 1, 'still': 1, 'had': 1, 'bad': 1, 'effect': 1, 'error': 1, 'your': 1, 'are': 1, 'bias': 1, 'respect': 1, 'newsgroup': 1, 'have': 1, 'strong': 1, 'social': 1, 'taboo': 1, 'post': 1, 'mani': 1, 'peopl': 1, 'person': 1, 'inbox': 1, 'is': 1, 'quit': 1, 'abund': 1, 'ham': 1, 'may': 1, 'prove': 1, 'be': 1, 'bigger': 1, 'hurdl': 1, 'own': 1, 'mail': 1, 'doesn': 1, 'reflect': 1, 'what': 1, 'receiv': 1, 'sinc': 1, 'and': 1, 'throw': 1, 'away': 1, 'select': 1, 'more': 1, 'past': 1, 'multipart': 1, 'mix': 1, 'plain': 1, 'brief': 1, 'plu': 1, 'long': 1, 'copi': 1, 'websit': 1, 'ah': 1, 'explain': 1, 'whi': 1, 'didn': 1, 'again': 1, 'offer': 1, 'add': 1, 'an': 1, 'option': 1, 'argument': 1, 'token': 1, 'they': 1, 'here': 1, 'if': 1, 'gloss': 1, 'over': 1, 'third': 1, 'would': 1, 'feel': 1, 'loss': 1, 'wink': 1, 'll': 1, 'bite': 1, 'sound': 1, 'idea': 1, 'case': 1, 'see': 1, 'how': 1, 'improv': 1, 'f': 1, 'p': 1, 'guido': 1, 'van': 1, 'rossum': 1, 'home': 1, 'page': 1}),\n",
       "       Counter({'vip': 4, 'stop': 2, 'e': 2, 'project': 2, 'web': 2, 'com': 2, 'までお送り下さい': 2, 'url': 2, '事業者': 1, '氏名': 1, 'mail': 1, '突然のメール失礼いたします': 1, '今後この広告がご不要な方はその旨を': 1, 'リッチな出会いはvip': 1, 'mailで': 1, 'mailがハイクラスな出会いをプレゼント': 1, '携帯numberキャリアとpc対応の出会いサイト': 1, '今までの出会いサイトに飽きた人': 1, '出会いは欲しいけどサイトを使うのはと迷ってる人': 1, '今直ぐvip': 1, 'mailにgo': 1, '女性無料は当たり前': 1, '男性にはお試しポイントnumberptプレゼント': 1, '女性はリッチな男性をgetしようo': 1, 'o': 1, '男性はお試しポイント気に入った娘を見つけよう': 1, 'b': 1, '出会いを求めるならvip': 1, 'mailに今直ぐアクセス': 1, '突然のメール失礼いたしました': 1, '今後この広告がご不要な方': 1, '配信停止を希望される方はその旨を': 1}),\n",
       "       Counter({'number': 8, 'os': 5, 'mac': 4, 'x': 3, 'url': 2, 'a': 2, 'date': 1, 'numbertnumb': 1, 'which': 1, 'wa': 1, 'the': 1, 'better': 1, 'ui': 1, 'window': 1, 'nobodi': 1, 'can': 1, 'agre': 1, 'tim': 1, 'o': 1, 'reilli': 1, 'didn': 1, 't': 1, 'like': 1, 'he': 1, 'get': 1, 'tradit': 1, 'user': 1, 'are': 1, 'bit': 1, 'annoy': 1, 'by': 1, 'they': 1, 'think': 1, 'it': 1, 's': 1}),\n",
       "       Counter({'to': 7, 'potent': 4, 'hyperlink': 4, 'click': 4, 'here': 4, 'salvia': 4, 'the': 4, 'for': 3, 'time': 3, 'of': 3, 'remov': 3, 'we': 3, 'email': 3, 'not': 3, 'our': 3, 'you': 3, 'legal': 2, 'all': 2, 'extrem': 2, 'more': 2, 'on': 2, 'divinorum': 2, 'numberx': 2, 'warn': 2, 'number': 2, 'unsolicit': 2, 'do': 2, 'wish': 2, 'receiv': 2, 'special': 2, 'mail': 2, 'have': 2, 'in': 2, 'request': 2, 'be': 2, 'from': 2, 'thi': 2, 'if': 2, 'pleas': 2, 'get': 1, 'high': 1, 'it': 1, 'realli': 1, 'work': 1, 'pass': 1, 'drug': 1, 'test': 1, 'info': 1, 'extract': 1, 'veri': 1, 'most': 1, 'smokabl': 1, 'herb': 1, 'planet': 1, 'power': 1, 'inform': 1, 'are': 1, 'strongli': 1, 'against': 1, 'send': 1, 'those': 1, 'who': 1, 'opt': 1, 'one': 1, 'or': 1, 'affili': 1, 'site': 1, 'notifi': 1, 'ani': 1, 'offer': 1, 'may': 1, 'run': 1, 'is': 1, 'further': 1, 'list': 1, 'accept': 1, 'apolog': 1, 'been': 1, 'sent': 1, 'error': 1, 'honor': 1, 'within': 1, 'hour': 1}),\n",
       "       Counter({'the': 16, 'that': 8, 'and': 8, 'number': 6, 'i': 6, 'to': 6, 'a': 5, 'of': 5, 'we': 5, 't': 4, 'have': 4, 'about': 4, 'more': 4, 'in': 4, 'do': 4, 'from': 4, 's': 4, 'are': 4, 'innov': 4, 'on': 3, 'you': 3, 'wa': 3, 'first': 3, 'is': 3, 'ani': 3, 'centuri': 3, 'demograph': 3, 'gerontocraci': 3, 'import': 3, 'don': 2, 'swallow': 2, 'what': 2, 'read': 2, 'cultur': 2, 'today': 2, 'or': 2, 'past': 2, 'hand': 2, 'problem': 2, 'than': 2, 'it': 2, 'all': 2, 'divorc': 2, 'numberth': 2, 'onli': 2, 'recent': 2, 'grant': 2, 'saudi': 2, 'arabia': 2, 'sustain': 2, 'someth': 2, 'point': 2, 'm': 2, 'last': 2, 'see': 2, 'america': 2, 'specif': 2, 'us': 2, 'as': 2, 'not': 2, 'west': 2, 'gener': 2, 'lack': 2, 'vi': 2, 'trend': 2, 'by': 2, 'work': 2, 'thi': 2, 'fri': 1, 'sep': 1, 'russel': 1, 'turpin': 1, 'wrote': 1, 'too': 1, 'quickli': 1, 'tradit': 1, 'just': 1, 'offer': 1, 'anecdot': 1, 'experi': 1, 'indic': 1, 'appar': 1, 'which': 1, 'requir': 1, 'ad': 1, 'hoc': 1, 'wave': 1, 'approach': 1, 'trivial': 1, 'obviou': 1, 'xy': 1, 'statist': 1, 'poor': 1, 'man': 1, 'so': 1, 'sure': 1, 'kid': 1, 'easi': 1, 'didn': 1, 'happen': 1, 'church': 1, 'societi': 1, 'look': 1, 'after': 1, 'rel': 1, 'privileg': 1, 'king': 1, 'veri': 1, 'common': 1, 'england': 1, 'were': 1, 'function': 1, 'those': 1, 'meaning': 1, 'emigr': 1, 'sourc': 1, 'at': 1, 'least': 1, 'viewpoint': 1, 'counterpressur': 1, 'result': 1, 'innovatiophobia': 1, 're': 1, 'wrong': 1, 'your': 1, 'two': 1, 'skeptic': 1, 'sign': 1, 'wasn': 1, 'talk': 1, 'though': 1, 'exist': 1, 'there': 1, 'well': 1, 'albeit': 1, 'extent': 1, 'eurotrash': 1, 'face': 1, 'right': 1, 'now': 1, 'suffer': 1, 'youth': 1, 'nation': 1, 'such': 1, 'iran': 1, 'disturb': 1, 'toward': 1, 'even': 1, 'less': 1, 'an': 1, 'autocatalyt': 1, 'process': 1, 'favor': 1, 'third': 1, 'revolut': 1, 'want': 1, 'move': 1, 'b': 1, 'fail': 1, 'everyth': 1, 'they': 1, 'can': 1, 'american': 1, 'my': 1, 'foremost': 1, 'carrier': 1, 'against': 1, 'bad': 1, 'larg': 1, 'scale': 1, 'while': 1, 'kinda': 1, 'sorta': 1, 'short': 1, 'run': 1}),\n",
       "       Counter({'br': 10, 'a': 6, 'to': 4, 'b': 4, 'get': 3, 'and': 3, 'in': 3, 'more': 3, 'everybodi': 2, 'paid': 2, 'for': 2, 'it': 2, 's': 2, 'the': 2, 'but': 2, 'make': 2, 'html': 2, 'href': 2, 'mailto': 2, 'subject': 2, 'click': 2, 'here': 2, 'remov': 2, 'no': 1, 'recruit': 1, 'requir': 1, 'join': 1, 'reserv': 1, 'posit': 1, 'free': 1, 'now': 1, 'program': 1, 'is': 1, 'number': 1, 'week': 1, 'old': 1, 'pay': 1, 'line': 1, 'by': 1, 'all': 1, 'new': 1, 'peopl': 1, 'come': 1, 'not': 1, 'tradit': 1, 'straightlin': 1, 'everyon': 1, 'money': 1, 'those': 1, 'that': 1, 'sponsor': 1, 'gmtnumberinfo': 1, 'profitrespond': 1, 'com': 1, 'send': 1, 'info': 1, 'request': 1, 'inform': 1, 'stockbuy': 1, 'netzero': 1, 'net': 1, 'we': 1, 'belong': 1, 'same': 1, 'opt': 1, 'list': 1, 'if': 1, 'wish': 1, 'have': 1, 'your': 1, 'email': 1, 'address': 1, 'from': 1, 'our': 1, 'databas': 1, 'pleas': 1}),\n",
       "       Counter({'number': 22, 'the': 9, 'i': 9, 'openssl': 7, 'packag': 6, 'to': 6, 'depend': 5, 'instal': 5, 'that': 5, 'a': 5, 'snip': 4, 'but': 4, 'have': 4, 'numberb': 4, 'is': 4, 't': 4, 'openssh': 3, 'numbera': 3, 'it': 3, 'so': 3, 's': 3, 'just': 3, 'if': 3, 'and': 3, 'with': 3, 'follow': 2, 'unmet': 2, 'php': 2, 'pgsql': 2, 'postgresql': 2, 'use': 2, 'opensslnumbera': 2, 'provid': 2, 'apt': 2, 'believ': 2, 'librari': 2, 'can': 2, 'version': 2, 'about': 2, 'want': 2, 'you': 2, 'on': 1, 'wed': 1, 'feb': 1, 'at': 1, 'numberpm': 1, 'peter': 1, 'peltonen': 1, 'wrote': 1, 'two': 1, 'issu': 1, 'sorri': 1, 'not': 1, 'libpq': 1, 'e': 1, 'tri': 1, 'f': 1, 'perl': 1, 'devel': 1, 'should': 1, 'compat': 1, 'doesn': 1, 'think': 1, 'matter': 1, 'of': 1, 'string': 1, 'pars': 1, 'someon': 1, 'were': 1, 'fix': 1, 'remov': 1, 'explicit': 1, 'requir': 1, 'automag': 1, 'binari': 1, 'handler': 1, 'would': 1, 'figur': 1, 'right': 1, 'haven': 1, 'met': 1, 'an': 1, 'like': 1, 'in': 1, 'worst': 1, 'case': 1, 've': 1, 'had': 1, 'differ': 1, 'wtf': 1, 'they': 1, 'bump': 1, 'major': 1, 'incompat': 1, 'from': 1, 'sourc': 1, 'whi': 1, 'need': 1, 'there': 1, 'way': 1, 'tell': 1, 'don': 1, 'complain': 1, 'few': 1, 'such': 1, 'thing': 1, 'jdk': 1, 'imlib': 1, 'kernel': 1, 'dri': 1, 'someth': 1, 'ive': 1, 'made': 1, 'dummi': 1, 'verbos': 1, 'warn': 1, 'attach': 1, 'explicitli': 1, 'those': 1, 'capabl': 1, 'or': 1, 'claim': 1, 'onli': 1, 'go': 1, 'mile': 1, 'begin': 1, 'halfstep': 1}),\n",
       "       Counter({'number': 87, 'afnumber_decor': 63, 'cpp': 62, 'declar': 30, 'not': 19, 'int': 19, 'thi': 18, 'of': 17, 'type': 17, 'wa': 17, 'in': 16, 'scope': 16, 'error': 15, 'as': 12, 'befor': 11, 'with': 10, 'iso': 9, 'c': 9, 'forbid': 9, 'no': 9, 'list': 9, 'a': 8, 'i': 7, 'to': 7, 'transcod': 7, 'rpm': 7, 'fmt': 7, 'it': 6, 'previou': 6, 'defin': 6, 'syntax': 6, 'token': 6, 'fprintf': 6, 'for': 6, 'buffer': 6, 'be': 5, 'from': 5, 'is': 5, 'use': 5, 'pars': 5, 'redefinit': 5, 'fflush': 5, 'the': 4, 'if': 4, 'wvfmt': 4, 'previous': 4, 'here': 4, 'conflict': 4, 'buffer_s': 4, 'char': 4, 'make': 4, 'on': 3, 'src': 3, 'avifil': 3, 'but': 3, 'initi': 3, 'treat': 3, 'compound': 3, 'express': 3, 'sampl': 3, 'unsign': 3, 'invalid': 3, 'convers': 3, 'p_write': 3, 'build': 3, 'work': 3, 'my': 3, 'red': 3, 'hat': 3, 'linux': 3, 'url': 3, 'matthia': 2, 'wrote': 2, 'alvi': 2, 'thank': 2, 'have': 2, 'problem': 2, 'rebuild': 2, 'get': 2, 'and': 2, 'give': 2, 'part': 2, 'waveformatex': 2, 'avm_wave_format_nam': 2, 'sync_str': 2, 'while': 2, 'leav': 2, 'directori': 2, 'usr': 2, 'redhat': 2, 'import': 2, 't': 2, 'command': 2, 'line': 2, 'arg': 2, 's': 2, 'fine': 2, 'now': 2, 'dvd': 2, 'current': 2, '_______________________________________________': 2, 'mail': 2, 'freshrpm': 2, 'net': 2, 'mon': 1, 'at': 1, 'saou': 1, 'onc': 1, 'upon': 1, 'time': 1, 'seem': 1, 'confus': 1, 'up': 1, 'could': 1, 'you': 1, 'output': 1, 'onli': 1, 'last': 1, 'rpmbuild': 1, 'without': 1, 'frnumbersrc': 1, '_io_fil': 1, 'ipip': 1, 'lo': 1, 'all': 1, 'recurs': 1, 'trancod': 1, 'can': 1, 'although': 1, 'been': 1, 'sinc': 1, 'mayb': 1, 'forgot': 1, 'how': 1, 'dumb': 1, 'mistak': 1, 'did': 1, 'nt': 1, 'libdvdcss': 1, 'devel': 1, 'so': 1, 'rip': 1, 'help': 1, 'm': 1, 'encod': 1, 'divxnumb': 1, 'right': 1, 'home': 1, 'comput': 1, 'ha': 1, 'support': 1, 'disabl': 1, 'that': 1, 'may': 1, 'your': 1, 'becaus': 1, 'gcc': 1, 'isn': 1, 'abl': 1, 'recompil': 1, 'clean': 1, 'custom': 1, 'packag': 1, 'releas': 1, 'valhalla': 1, 'run': 1, 'kernel': 1, 'numberacpi': 1, 'load': 1}),\n",
       "       Counter({'you': 7, 'and': 6, 'home': 6, 'to': 6, 'your': 5, 'the': 4, 'of': 4, 'hyperlink': 4, 'rate': 3, 'for': 3, 'loan': 3, 'click': 3, 'here': 3, 'futur': 3, 'are': 3, 'receiv': 3, 'best': 2, 'simpl': 2, 'free': 2, 'hundr': 2, 'lender': 2, 'new': 2, 'second': 2, 'mortgag': 2, 'equiti': 2, 'jump': 2, 'start': 2, 'plan': 2, 'interest': 2, 'at': 2, 'in': 2, 'number': 2, 'with': 2, 'thi': 2, 'special': 2, 'offer': 2, 'mortag': 1, 'easi': 1, 'have': 1, 'compet': 1, 'refinanc': 1, 'debt': 1, 'consolid': 1, 'dear': 1, 'homeown': 1, 'their': 1, 'lowest': 1, 'point': 1, 'year': 1, 'we': 1, 'help': 1, 'find': 1, 'situat': 1, 'by': 1, 'match': 1, 'need': 1, 'improv': 1, 'refin': 1, 'more': 1, 're': 1, 'elig': 1, 'even': 1, 'less': 1, 'than': 1, 'perfect': 1, 'credit': 1, 'servic': 1, 'is': 1, 'owner': 1, 'buyer': 1, 'without': 1, 'ani': 1, 'oblig': 1, 'just': 1, 'fill': 1, 'out': 1, 'a': 1, 'quick': 1, 'form': 1, 'today': 1, 'begin': 1, 'email': 1, 'becaus': 1, 'regist': 1, 'one': 1, 'url': 1, 's': 1, 'partner': 1, 'site': 1, 'agre': 1, 'gift': 1, 'that': 1, 'may': 1, 'be': 1, 'if': 1, 'do': 1, 'not': 1, 'want': 1, 'pleas': 1, 'subscrib': 1, 'as': 1, 'webmast': 1, 'efi': 1, 'ie': 1, 'equal': 1, 'hous': 1, 'opportun': 1}),\n",
       "       Counter({'i': 3, 'thi': 3, 'a': 3, 'user': 3, 'the': 3, 'url': 3, 'get': 2, 'will': 2, 'be': 2, 'to': 2, 'for': 2, 'it': 2, 'email': 2, 'you': 2, 'razor': 2, 'list': 2, 'hey': 1, 'folk': 1, 'know': 1, 'question': 1, 'ask': 1, 'lot': 1, 'but': 1, 'haven': 1, 't': 1, 'seen': 1, 'an': 1, 'answer': 1, 'late': 1, 'ani': 1, 'idea': 1, 'when': 1, 'abl': 1, 'view': 1, 'hi': 1, 'own': 1, 'trust': 1, 'rate': 1, 'what': 1, 'are': 1, 'plan': 1, 'built': 1, 'into': 1, 'client': 1, 'web': 1, 'base': 1, 'nightli': 1, 'if': 1, 'could': 1, 'share': 1, 'your': 1, 'brainstorm': 1, 'on': 1, 'subject': 1, 'would': 1, 'greatli': 1, 'appreci': 1, 'is': 1, 'sponsor': 1, 'by': 1, 'osdn': 1, 'tire': 1, 'of': 1, 'that': 1, 'same': 1, 'old': 1, 'cell': 1, 'phone': 1, 'new': 1, 'here': 1, 'free': 1, '_______________________________________________': 1, 'mail': 1, 'sourceforg': 1, 'net': 1}),\n",
       "       Counter({'it': 11, 'to': 6, 'the': 6, 'number': 6, 'upgrad': 5, 't': 5, 'and': 5, 'do': 4, 's': 4, 'i': 4, 'from': 4, 'think': 3, 'not': 3, 'releas': 3, 'mean': 3, 'you': 3, 'url': 3, 'list': 3, 'possibl': 2, 'use': 2, 'new': 2, 'null': 2, 'rhnumber': 2, 'might': 2, 'don': 2, 'tri': 2, 'if': 2, 'mayb': 2, 'will': 2, 'that': 2, 'work': 2, 'on': 2, 'histor': 2, 'a': 2, 'so': 2, 'problem': 2, 'anyway': 2, 'thi': 2, 'x': 2, 'thoma': 2, 'rpm': 2, 'is': 1, 'apt': 1, 'be': 1, 'anyon': 1, 'yet': 1, 'even': 1, 'are': 1, 'there': 1, 'good': 1, 'reason': 1, 'whi': 1, 'should': 1, 'just': 1, 'rh': 1, 'iso': 1, 'upnumberd': 1, 'ye': 1, 'first': 1, 'off': 1, 'redhat': 1, 'doe': 1, 'support': 1, 'beta': 1, 'version': 1, 'doesn': 1, 'can': 1, 'nobodi': 1, 'they': 1, 'sure': 1, 'didn': 1, 'test': 1, 'or': 1, 'fix': 1, 'anyth': 1, 'make': 1, 're': 1, 'your': 1, 'own': 1, 'second': 1, 'mostli': 1, 'much': 1, 'ha': 1, 'been': 1, 'chang': 1, 'have': 1, 'ani': 1, 'previou': 1, 'most': 1, 'user': 1, 'instal': 1, 'scratch': 1, 'throughout': 1, 'y': 1, 'want': 1, 'avoid': 1, 'bite': 1, 'bullet': 1, 'reinstal': 1, 'dave': 1, 'dina': 1, 'project': 1, 'futur': 1, 'tv': 1, 'today': 1, 'everi': 1, 'time': 1, 'she': 1, 'sneez': 1, 'love': 1, 'oh': 1, 'lord': 1, 'm': 1, 'readi': 1, 'for': 1, 'sort': 1, 'of': 1, 'thing': 1, 'apestaart': 1, 'org': 1, 'urgent': 1, 'best': 1, 'radio': 1, 'internet': 1, '_______________________________________________': 1, 'mail': 1, 'freshrpm': 1, 'net': 1}),\n",
       "       Counter({'the': 23, 'it': 13, 'a': 11, 'to': 10, 'i': 10, 'is': 7, 'and': 7, 'mobo': 7, 'you': 7, 'power': 6, 'linux': 5, 'in': 5, 'on': 5, 'of': 5, 'if': 5, 'card': 5, 'from': 4, 'number': 4, 'ie': 4, 'but': 4, 'some': 4, 'no': 4, 'have': 4, 'or': 4, 'remov': 4, 'beep': 4, 'cpu': 4, 'ilug': 3, 'ot': 3, 'dell': 3, 'thi': 3, 'when': 3, 'plug': 3, 'what': 3, 'get': 3, 'cabl': 3, 'video': 3, 'system': 3, 't': 3, 'then': 3, 'switch': 3, 'code': 3, 'ahern': 2, 'peter': 2, 'give': 2, 'me': 2, 'm': 2, 'had': 2, 'old': 2, 'corner': 2, 'know': 2, 'work': 2, 'be': 2, 'noth': 2, 'her': 2, 'up': 2, 'look': 2, 'that': 2, 's': 2, 'after': 2, 'all': 2, 'problem': 2, 'one': 2, 'with': 2, 'prob': 2, 'just': 2, 'tri': 2, 'back': 2, 'pci': 2, 'isa': 2, 'floppi': 2, 'ide': 2, 'ram': 2, 'doesn': 2, 'post': 2, 'off': 2, 'your': 2, 'lack': 2, 'as': 2, 'abov': 2, 'still': 2, 'reseat': 2, 'ever': 2, 'into': 2, 'faulti': 2, 'origin': 1, 'messag': 1, 'pahernnumb': 1, 'mailto': 1, 'motorola': 1, 'com': 1, 'sent': 1, 'august': 1, 'subject': 1, 'machin': 1, 'hassl': 1, 'ok': 1, 'iknow': 1, 'blatantli': 1, 'begin': 1, 'go': 1, 'insan': 1, 'an': 1, 'dimens': 1, 'xp': 1, 'sit': 1, 'decid': 1, 'put': 1, 'use': 1, 'wa': 1, 'pre': 1, 'stuck': 1, 'hit': 1, 'happen': 1, 'open': 1, 'say': 1, 'much': 1, 'littl': 1, 'orang': 1, 'led': 1, 'come': 1, 'googl': 1, 'found': 1, 'refer': 1, 're': 1, 'seat': 1, 'part': 1, 'chang': 1, 'sinc': 1, 'suppli': 1, 'specif': 1, 'atx': 1, 'block': 1, 'like': 1, 'at': 1, 'connector': 1, 'cant': 1, 'figur': 1, 'out': 1, 'weather': 1, 'psu': 1, 'futili': 1, 'drag': 1, 'want': 1, 'instal': 1, 'anyon': 1, 'might': 1, 'shout': 1, 'here': 1, 'do': 1, 'eisa': 1, 'disk': 1, 'essenti': 1, 'leav': 1, 'onli': 1, 'keyboard': 1, 'turn': 1, 'emit': 1, 'complain': 1, 'about': 1, 'same': 1, 'procedur': 1, 'don': 1, 'ani': 1, 'kind': 1, 'can': 1, 'last': 1, 'ditch': 1, 'effort': 1, 'rememb': 1, 'never': 1, 'without': 1, 'heatsink': 1, 'fan': 1, 'insert': 1, 'actual': 1, 'connect': 1, 'even': 1, 'though': 1, 'either': 1, 'motherboard': 1, 'onc': 1, 'variou': 1, 'permut': 1, 'should': 1, 'eventu': 1, 'disjunct': 1, 'which': 1, 'devic': 1, 'caus': 1, 'self': 1, 'test': 1, 'bod': 1, 'irish': 1, 'user': 1, 'group': 1, 'url': 1, 'for': 1, 'un': 1, 'subscript': 1, 'inform': 1, 'list': 1, 'maintain': 1, 'listmast': 1}),\n",
       "       Counter({'to': 9, 'the': 8, 'it': 7, 'dev': 6, 'wa': 6, 'with': 6, 'number': 5, 'i': 5, 'mdnumber': 5, 'thi': 3, 'becaus': 3, 'boot': 3, 'root': 3, 't': 3, 'that': 3, 'and': 3, 'linux': 3, 'on': 2, 'is': 2, 'like': 2, 'hdanumb': 2, 'not': 2, 'just': 2, 'tar': 2, 'file': 2, 'for': 2, 'a': 2, 'hard': 2, 'link': 2, 'of': 2, 'url': 2, 'we': 2, 'work': 2, 'ie': 2, 'mon': 1, 'aug': 1, 'at': 1, 'numberpm': 1, 'john': 1, 'p': 1, 'looney': 1, 'mention': 1, 'get': 1, 'cobalt': 1, 'm': 1, 'actual': 1, 'pass': 1, 'kernel': 1, 'solv': 1, 'reason': 1, 'box': 1, 'wasn': 1, 'would': 1, 'barf': 1, 'can': 1, 'find': 1, 'init': 1, 'turn': 1, 'out': 1, 'popul': 1, 'which': 1, 'seem': 1, 'have': 1, 'issu': 1, 'crosslink': 1, 'instanc': 1, 'tri': 1, 'make': 1, 'hda': 1, 'fail': 1, 'onli': 1, 'as': 1, 'did': 1, 'again': 1, 'friend': 1, 'present': 1, 'he': 1, 'spot': 1, 'error': 1, 'queri': 1, 'them': 1, 'notic': 1, 'didn': 1, 'exist': 1, 'new': 1, 'rootf': 1, 'when': 1, 'duplic': 1, 'filesystem': 1, 'dump': 1, 'instead': 1, 'fine': 1, 'abl': 1, 'tell': 1, 'lilo': 1, 'use': 1, 'everyth': 1, 'woohoo': 1, 'kate': 1, 'irish': 1, 'user': 1, 'group': 1, 'ilug': 1, 'un': 1, 'subscript': 1, 'inform': 1, 'list': 1, 'maintain': 1, 'listmast': 1}),\n",
       "       Counter({'new': 7, 'south': 6, 'you': 5, 'hyperlink': 4, 'a': 3, 'north': 3, 'island': 3, 'australia': 3, 'unit': 3, 'guinea': 3, 'if': 3, 'to': 3, 'url': 3, 'georgia': 2, 'guam': 2, 'carolina': 2, 'dakota': 2, 'mexico': 2, 'puerto': 2, 'rico': 2, 'virginia': 2, 'the': 2, 'territori': 2, 'state': 2, 'congo': 2, 'republ': 2, 'korea': 2, 'have': 2, 'thi': 2, 'our': 2, 'would': 2, 'like': 2, 'pleas': 2, 'or': 2, 'never': 1, 'pay': 1, 'retail': 1, 'manwoman': 1, 'mana': 1, 'woman': 1, 'ani': 1, 'alaska': 1, 'alabama': 1, 'arkansa': 1, 'arizona': 1, 'california': 1, 'colorado': 1, 'connecticut': 1, 'd': 1, 'c': 1, 'delawar': 1, 'florida': 1, 'hawaii': 1, 'iowa': 1, 'idaho': 1, 'illinoi': 1, 'indiana': 1, 'kansa': 1, 'kentucki': 1, 'louisiana': 1, 'massachusett': 1, 'maryland': 1, 'main': 1, 'michigan': 1, 'minnesota': 1, 'missouri': 1, 'mississippi': 1, 'montana': 1, 'nebraska': 1, 'hampshir': 1, 'jersey': 1, 'nevada': 1, 'york': 1, 'ohio': 1, 'oklahoma': 1, 'oregon': 1, 'pennsylvania': 1, 'rhode': 1, 'tennesse': 1, 'texa': 1, 'utah': 1, 'virgin': 1, 'vermont': 1, 'washington': 1, 'wisconsin': 1, 'west': 1, 'wyom': 1, 'alberta': 1, 'british': 1, 'columbia': 1, 'manitoba': 1, 'brunswick': 1, 'newfoundland': 1, 'northwest': 1, 'nova': 1, 'scotia': 1, 'ontario': 1, 'princ': 1, 'edward': 1, 'quebec': 1, 'saskatchewan': 1, 'yukon': 1, 'wale': 1, 'queensland': 1, 'tasmania': 1, 'victoria': 1, 'western': 1, 'afghanistan': 1, 'albania': 1, 'algeria': 1, 'andorra': 1, 'angola': 1, 'antigua': 1, 'argentina': 1, 'armenia': 1, 'aruba': 1, 'austria': 1, 'azerbaidjan': 1, 'bahama': 1, 'bahrain': 1, 'bangladesh': 1, 'barbado': 1, 'belgium': 1, 'beliz': 1, 'benin': 1, 'bermuda': 1, 'bhutan': 1, 'bolivia': 1, 'bosnia': 1, 'botswana': 1, 'brazil': 1, 'brunei': 1, 'bulgaria': 1, 'burkina': 1, 'faso': 1, 'burma': 1, 'burundi': 1, 'cambodia': 1, 'cameroon': 1, 'canada': 1, 'cape': 1, 'verd': 1, 'central': 1, 'afr': 1, 'rep': 1, 'chad': 1, 'chile': 1, 'china': 1, 'colombia': 1, 'comoro': 1, 'zair': 1, 'costa': 1, 'rica': 1, 'croatia': 1, 'cuba': 1, 'cypru': 1, 'czech': 1, 'denmark': 1, 'djibouti': 1, 'dominica': 1, 'dom': 1, 'ecuador': 1, 'egypt': 1, 'el': 1, 'salvador': 1, 'equatori': 1, 'eritrea': 1, 'estonia': 1, 'ethiopia': 1, 'fiji': 1, 'finland': 1, 'franc': 1, 'gabon': 1, 'gambia': 1, 'germani': 1, 'ghana': 1, 'gibraltar': 1, 'greec': 1, 'guatemala': 1, 'bissau': 1, 'guyana': 1, 'haiti': 1, 'hondura': 1, 'hong': 1, 'kong': 1, 'hungari': 1, 'iceland': 1, 'india': 1, 'indonesia': 1, 'iran': 1, 'iraq': 1, 'ireland': 1, 'israel': 1, 'itali': 1, 'ivori': 1, 'coast': 1, 'jamaica': 1, 'japan': 1, 'jordan': 1, 'kazakhstan': 1, 'kenya': 1, 'kuwait': 1, 'lao': 1, 'latvia': 1, 'lebanon': 1, 'liberia': 1, 'libya': 1, 'liechtenstein': 1, 'lithuania': 1, 'luxembourg': 1, 'macau': 1, 'macedonia': 1, 'madagascar': 1, 'malawi': 1, 'malaysia': 1, 'maldiv': 1, 'mali': 1, 'malta': 1, 'mauritania': 1, 'mauritiu': 1, 'moldova': 1, 'monaco': 1, 'mongolia': 1, 'morocco': 1, 'mozambiqu': 1, 'namibia': 1, 'nepal': 1, 'netherland': 1, 'zealand': 1, 'nicaragua': 1, 'niger': 1, 'nigeria': 1, 'norway': 1, 'oman': 1, 'pakistan': 1, 'panama': 1, 'paraguay': 1, 'peru': 1, 'philippin': 1, 'poland': 1, 'portug': 1, 'qatar': 1, 'romania': 1, 'russia': 1, 'rwanda': 1, 'san': 1, 'marino': 1, 'saudi': 1, 'arabia': 1, 'seneg': 1, 'sierra': 1, 'leon': 1, 'singapor': 1, 'slovakia': 1, 'slovenia': 1, 'somalia': 1, 'africa': 1, 'spain': 1, 'sri': 1, 'lanka': 1, 'sudan': 1, 'sweden': 1, 'switzerland': 1, 'syria': 1, 'taiwan': 1, 'tanzania': 1, 'thailand': 1, 'togo': 1, 'trinidad': 1, 'tunisia': 1, 'turkey': 1, 'turkmenistan': 1, 'uganda': 1, 'ukrain': 1, 'u': 1, 'e': 1, 'kingdom': 1, 'uruguay': 1, 'venezuela': 1, 'vietnam': 1, 'yemen': 1, 'yugoslavia': 1, 'zambia': 1, 'zimbabw': 1, 'receiv': 1, 'email': 1, 'becaus': 1, 'subscrib': 1, 'through': 1, 'one': 1, 'of': 1, 'market': 1, 'partner': 1, 'learn': 1, 'more': 1, 'about': 1, 'then': 1, 'visit': 1, 'websit': 1, 'messag': 1, 'wa': 1, 'sent': 1, 'in': 1, 'error': 1, 'unsubscrib': 1, 'click': 1, 'here': 1, 'cut': 1, 'and': 1, 'past': 1, 'follow': 1, 'link': 1, 'into': 1, 'web': 1, 'browser': 1}),\n",
       "       Counter({'the': 58, 'cd': 24, 'a': 23, 'play': 15, 'button': 15, 'to': 14, 'and': 13, 'tatum': 12, 'player': 12, 'of': 9, 'number': 8, 'music': 8, 'she': 8, 'be': 8, 't': 8, 'press': 8, 'it': 8, 'would': 8, 'is': 7, 'for': 7, 'get': 6, 'that': 6, 'toddler': 6, 'like': 5, 'thi': 5, 'put': 5, 'from': 5, 'in': 5, 'but': 5, 'time': 5, 'them': 5, 'understand': 5, 'doesn': 4, 'sinc': 4, 'as': 4, 'no': 4, 'on': 4, 'out': 4, 'load': 4, 'also': 3, 'have': 3, 'control': 3, 'into': 3, 'you': 3, 'ui': 3, 'feedback': 3, 'wa': 3, 'start': 3, 'onli': 3, 'back': 3, 'door': 3, 'ha': 3, 'fm': 3, 'other': 3, 'color': 3, 'so': 2, 'mani': 2, 'month': 2, 'by': 2, 'watch': 2, 'use': 2, 'there': 2, 'paus': 2, 'singl': 2, 'second': 2, 'disast': 2, 'away': 2, 'again': 2, 'an': 2, 'eventu': 2, 'hit': 2, 'immedi': 2, 'half': 2, 'multipl': 2, 'well': 2, 'elev': 2, 'come': 2, 'need': 2, 'hing': 2, 'take': 2, 'problem': 2, 'edg': 2, 's': 2, 'hasn': 2, 'area': 2, 'radio': 2, 'distinct': 2, 'at': 2, 'least': 2, 'differ': 2, 'should': 2, 'young': 1, 'children': 1, 'my': 1, 'daughter': 1, 'age': 1, 'realli': 1, 'over': 1, 'her': 1, 'environ': 1, 'mean': 1, 'want': 1, 'one': 1, 'i': 1, 've': 1, 'discov': 1, 'can': 1, 'learn': 1, 'lot': 1, 'about': 1, 'design': 1, 'old': 1, 'technolog': 1, 'definit': 1, 'market': 1, 'nich': 1, 'friendli': 1, 'mpnumber': 1, 'we': 1, 'combin': 1, 'provid': 1, 'instantan': 1, 'push': 1, 'instead': 1, 'requir': 1, 'wait': 1, 'until': 1, 'right': 1, 'therebi': 1, 'befor': 1, 'even': 1, 'll': 1, 'ever': 1, 'if': 1, 'odd': 1, 'happen': 1, 'surpris': 1, 'amount': 1, 'when': 1, 'must': 1, 'caus': 1, 'within': 1, 'causal': 1, 'not': 1, 'shouldn': 1, 'chang': 1, 'semant': 1, 'matter': 1, 'how': 1, 'still': 1, 'floor': 1, 'same': 1, 'mechan': 1, 'feed': 1, 'angl': 1, 'isn': 1, 'much': 1, 'grab': 1, 'first': 1, 'lid': 1, 'forc': 1, 'wiggl': 1, 'process': 1, 'hard': 1, 'which': 1, 'yet': 1, 'result': 1, 'broken': 1, 'surprisingli': 1, 'been': 1, 'hole': 1, 'onto': 1, 'spindl': 1, 'seem': 1, 'concept': 1, 'geometri': 1, 'natur': 1, 'guid': 1, 'tape': 1, 'mistak': 1, 'flick': 1, 'switch': 1, 'specif': 1, 'mode': 1, 'sometim': 1, 'advanc': 1, 'song': 1, 'errat': 1, 'featur': 1, 'both': 1, 'mono': 1, 'stero': 1, 'total': 1, 'lost': 1, 'binari': 1, 'what': 1, 'ideal': 1, 'after': 1, 'soon': 1, 'close': 1, 'give': 1, 'some': 1, 'audibl': 1, 'larg': 1, 'typic': 1, 'larger': 1, 'than': 1, 'normal': 1, 'size': 1, 'locat': 1, 'far': 1, 'chanc': 1, 'accident': 1, 'way': 1, 'bright': 1, 'key': 1, 'devic': 1, 'function': 1, 'flip': 1, 'open': 1, 'degre': 1, 'small': 1, 'approach': 1, 'possibl': 1, 'repeatedli': 1, 'drop': 1, 'height': 1, 'without': 1, 'affect': 1, 'jim': 1}),\n",
       "       Counter({'with': 3, 'i': 2, 'x': 2, 'spam': 2, 'header': 2, 'prefix': 2, 'that': 2, 'of': 2, 'version': 2, 'be': 2, 'the': 2, 'actual': 1, 'like': 1, 'neal': 1, 's': 1, 'disposit': 1, 'just': 1, 'wonder': 1, 'if': 1, 'mayb': 1, 'we': 1, 'should': 1, 'choos': 1, 'someth': 1, 'a': 1, 'differ': 1, 'than': 1, 'so': 1, 'peopl': 1, 'don': 1, 't': 1, 'confus': 1, 'it': 1, 'spamassassin': 1, 'all': 1, 'whose': 1, 'begin': 1, 'also': 1, 'some': 1, 'sort': 1, 'inform': 1, 'would': 1, 'use': 1, 'perhap': 1, 'cv': 1, 'number': 1, 'for': 1, 'classifi': 1, 'modul': 1, 'could': 1, 'tack': 1, 'on': 1, 'skip': 1}),\n",
       "       Counter({'the': 8, 'a': 7, 'number': 4, 'boat': 4, 'wa': 4, 'by': 3, 'whale': 3, 'and': 3, 'tibb': 3, 'guck': 2, 'port': 2, 'san': 2, 'lui': 2, 'california': 2, 'which': 2, 'into': 2, 'of': 2, 'fish': 2, 'aboard': 2, 'hi': 2, 'when': 2, 'hit': 2, 'three': 2, 'coast': 2, 'guard': 2, 'accid': 2, 'said': 2, 'forward': 1, 'sven': 1, 'math': 1, 'fu': 1, 'berlin': 1, 'de': 1, 'url': 1, 'septemb': 1, 'suddenli': 1, 'breach': 1, 'crash': 1, 'bow': 1, 'kill': 1, 'restaur': 1, 'owner': 1, 'on': 1, 'board': 1, 'jerri': 1, 'bakersfield': 1, 'bbq': 1, 'toss': 1, 'him': 1, 'sea': 1, 'five': 1, 'mile': 1, 'off': 1, 'other': 1, 'fishermen': 1, 'stay': 1, 'damag': 1, 'tow': 1, 'to': 1, 'shore': 1, 'us': 1, 'friend': 1, 'were': 1, 'just': 1, 'end': 1, 'day': 1, 'for': 1, 'albacor': 1, 'occur': 1, 'author': 1, 'bodi': 1, 'found': 1, 'after': 1, 'search': 1, 'last': 1, 'more': 1, 'than': 1, 'hour': 1, 'offici': 1, 'it': 1, 'first': 1, 'time': 1, 'they': 1, 'could': 1, 'recal': 1, 'an': 1, 'caus': 1}),\n",
       "       Counter({'i': 7, 'and': 6, 'to': 5, 'my': 4, 'linux': 3, 'am': 2, 'love': 2, 'have': 2, 'like': 2, 'm': 2, 'on': 2, 'webcam': 2, 'me': 2, 'for': 2, 'url': 2, 'social': 2, 'ie': 2, 'hello': 1, 'name': 1, 'is': 1, 'kelli': 1, 'an': 1, 'number': 1, 'year': 1, 'old': 1, 'swim': 1, 'instructor': 1, 'from': 1, 'longbeach': 1, 'intellig': 1, 'sexi': 1, 'discreet': 1, 'laugh': 1, 'fun': 1, 'most': 1, 'young': 1, 'girl': 1, 'go': 1, 'out': 1, 'with': 1, 'friend': 1, 'danc': 1, 'all': 1, 'night': 1, 'when': 1, 'home': 1, 'noth': 1, 'do': 1, 'chat': 1, 'be': 1, 'naughti': 1, 'n': 1, 'nake': 1, 'get': 1, 'a': 1, 'chanc': 1, 'catch': 1, 'live': 1, 'wait': 1, 'you': 1, 'click': 1, 'access': 1, 'instantli': 1, 'hunni': 1, 'later': 1, 'babi': 1, 'mmwa': 1, 'ewidvtdksrvaptnjsvsgeqcpafu': 1, 'irish': 1, 'user': 1, 'group': 1, 'event': 1, 'un': 1, 'subscript': 1, 'inform': 1, 'list': 1, 'maintain': 1, 'listmast': 1}),\n",
       "       Counter({'number': 8, 'of': 5, 'to': 5, 'a': 4, 'system': 4, 'is': 3, 'still': 3, 'we': 3, 'url': 2, 'cyberspac': 2, 'entertain': 2, 'onli': 2, 'use': 2, 'the': 2, 'it': 2, 'cours': 2, 'but': 2, 'at': 2, 'percent': 2, 'than': 2, 'date': 1, 'numbertnumb': 1, 'secur': 1, 'in': 1, 'differ': 1, 'kettl': 1, 'fish': 1, 'compar': 1, 'mani': 1, 'comput': 1, 'ha': 1, 'be': 1, 'major': 1, 'user': 1, 'that': 1, 'mean': 1, 'can': 1, 'toler': 1, 'small': 1, 'amount': 1, 'vandal': 1, 'remain': 1, 'thi': 1, 'quit': 1, 'unlik': 1, 'requir': 1, 'for': 1, 'commerc': 1, 'have': 1, 'headach': 1, 'least': 1, 'need': 1, 'keep': 1, 'around': 1, 'clean': 1, 'rather': 1, 'll': 1, 'strive': 1, 'stamp': 1, 'out': 1, 'corrupt': 1, 'our': 1, 'failur': 1, 'threshold': 1, 'more': 1, 'achiev': 1, 'one': 1, 'might': 1, 'first': 1, 'assum': 1}),\n",
       "       Counter({'the': 14, 'com': 11, 'to': 11, 'of': 9, 'list': 9, 'for': 9, 'url': 8, 'number': 8, 'dgcchat': 7, 'neudist': 6, 'goldmoney': 6, 'and': 6, 'releas': 5, 'framework': 5, 'document': 5, 'it': 5, 'object': 5, 'authent': 5, 'name': 4, 'public': 3, 'pell': 3, 'digit': 3, 'xml': 3, 'i': 3, 'is': 3, 'an': 3, 'applic': 3, 'contain': 3, 'be': 3, 'about': 3, 'a': 3, 'with': 3, 'in': 3, 'current': 3, 'will': 3, 'next': 3, 'use': 3, 'signatur': 3, 'simpl': 3, 'implement': 3, 'not': 3, 'base': 3, 'on': 3, 'namespac': 3, 'web': 3, 'sign': 3, 'servic': 3, 'end': 3, 'join': 3, 'send': 3, 'email': 3, 'forward': 2, 'text': 2, 'first': 2, 'distribut': 2, 'clear': 2, 'from': 2, 'neubia': 2, 'bearer': 2, 'api': 2, 'softwar': 2, 'thi': 2, 'earli': 2, 'java': 2, 'would': 2, 'develop': 2, 'experi': 2, 'are': 2, 'but': 2, 'soap': 2, 'request': 2, 'level': 2, 'user': 2, 'exampl': 2, 'more': 2, 'at': 2, 'discuss': 2, 'blank': 2, 'digest': 2, 'irregular': 2, 'begin': 1, 'subject': 1, 'transact': 1, 'braendgaard': 1, 'cc': 1, 'settlement': 1, 'db': 1, 'philodox': 1, 'xmlx': 1, 'intertrad': 1, 'date': 1, 'sep': 1, 'repli': 1, 'm': 1, 'happi': 1, 'announc': 1, 'open': 1, 'sourc': 1, 'build': 1, 'platform': 1, 'librari': 1, 'that': 1, 'primarili': 1, 'interest': 1, 'talk': 1, 'still': 1, 'bit': 1, 'slim': 1, 'mainli': 1, 'orient': 1, 'toward': 1, 'peopl': 1, 'there': 1, 'no': 1, 'sampl': 1, 'they': 1, 'avail': 1, 'follow': 1, 'class': 1, 'creat': 1, 'which': 1, 'within': 1, 'hierarchi': 1, 'storag': 1, 'almost': 1, 'certainli': 1, 'yet': 1, 'interoper': 1, 'other': 1, 'client': 1, 'servlet': 1, 'handl': 1, 'type': 1, 'includ': 1, 'maintain': 1, 'authenticationticket': 1, 'do': 1, 'site': 1, 'major': 1, 'schedul': 1, 'core': 1, 'hard': 1, 'code': 1, 'root': 1, 'key': 1, 'top': 1, 'host': 1, 'payment': 1, 'system': 1, 'expand': 1, 'over': 1, 'few': 1, 'week': 1, 'cover': 1, 'onli': 1, 'indepth': 1, 'technic': 1, 'also': 1, 'higher': 1, 'busi': 1, 'side': 1, 'thing': 1, 'read': 1, 'or': 1, 'download': 1, 'our': 1, 'version': 1, 'love': 1, 'hear': 1, 'your': 1, 'question': 1, 'suggest': 1, 'further': 1, 'pleas': 1, 'sourceforg': 1, 'net': 1, 'you': 1, 'can': 1, 'regard': 1, 'antil': 1, 'ventur': 1, 'sa': 1, 'my': 1, 'log': 1, 'live': 1, 'direct': 1, 'panama': 1, 'view': 1, 'econofist': 1, 'subscrib': 1, 'unsubscrib': 1, 'leav': 1, 'set': 1, 'yournam': 1, 'yourdomain': 1, 'messag': 1, 'bodi': 1, 'r': 1, 'hettinga': 1, 'mailto': 1, 'rah': 1, 'ibuc': 1, 'internet': 1, 'underwrit': 1, 'corpor': 1, 'farquhar': 1, 'street': 1, 'boston': 1, 'ma': 1, 'usa': 1, 'howev': 1, 'may': 1, 'deserv': 1, 'respect': 1, 'antiqu': 1, 'predict': 1, 'world': 1, 'ha': 1, 'been': 1, 'found': 1, 'agreeabl': 1, 'edward': 1, 'gibbon': 1, 'declin': 1, 'fall': 1, 'roman': 1, 'empir': 1, '_______________________________________________': 1, 'mail': 1, 'tb': 1, 'tf': 1}),\n",
       "       Counter({'number': 5, 'i': 3, 'the': 3, 'list': 3, 'at': 2, 'll': 2, 'url': 2, 'rpm': 2, 'on': 1, 'mon': 1, 'matthia': 1, 'saou': 1, 'wrote': 1, 'guess': 1, 'settl': 1, 'for': 1, 'dev': 1, 'dvd': 1, 'link': 1, 'chang': 1, 'as': 1, 'describ': 1, 'and': 1, 'put': 1, 'dma': 1, 'tip': 1, 'in': 1, 'descript': 1, 'thank': 1, 'sleep': 1, 'better': 1, 'now': 1, 'ill': 1, 'skyttä': 1, 'vill': 1, 'skytta': 1, '_______________________________________________': 1, 'mail': 1, 'freshrpm': 1, 'net': 1}),\n",
       "       Counter({'a': 14, 'the': 11, 'to': 11, 'it': 10, 'that': 10, 'and': 7, 'server': 7, 'you': 7, 'pop': 5, 'is': 5, 'be': 4, 'your': 4, 'about': 3, 'individu': 3, 'mail': 3, 'by': 3, 'spam': 3, 't': 3, 'i': 2, 'd': 2, 'like': 2, 'postmast': 2, 'answer': 2, 'configur': 2, 'train': 2, 'fals': 2, 'as': 2, 'filter': 2, 'more': 2, 'of': 2, 'can': 2, 'thi': 2, 'idea': 2, 'program': 2, 'then': 2, 'connect': 2, 'onli': 2, 'send': 2, 'ham': 2, 'don': 2, 'with': 2, 'messag': 2, 'or': 2, 'have': 2, 'load': 2, 'pickl': 2, 'each': 2, 'how': 2, 'mayb': 2, 'quit': 1, 'independ': 1, 'from': 1, 'test': 1, 'tune': 1, 'algorithm': 1, 'think': 1, 'deploy': 1, 'eventu': 1, 'should': 1, 'abl': 1, 'download': 1, 'spambay': 1, 'softwar': 1, 'distribut': 1, 'few': 1, 'question': 1, 'their': 1, 'setup': 1, 'posit': 1, 'instal': 1, 'modest': 1, 'initi': 1, 'goal': 1, 'might': 1, 'product': 1, 'tool': 1, 'easili': 1, 'use': 1, 'sinc': 1, 'we': 1, 're': 1, 'find': 1, 'will': 1, 'risk': 1, 'than': 1, 'there': 1, 'are': 1, 'mani': 1, 'way': 1, 'do': 1, 'some': 1, 'act': 1, 'both': 1, 'client': 1, 'tell': 1, 'real': 1, 'point': 1, 'reader': 1, 'at': 1, 'localhost': 1, 'when': 1, 'receiv': 1, 'remot': 1, 'read': 1, 'give': 1, 'non': 1, 'need': 1, 'neg': 1, 'somehow': 1, 'assum': 1, 'anyth': 1, 'say': 1, 'within': 1, 'number': 1, 'hour': 1, 'custom': 1, 'protocol': 1, 'copi': 1, 'littl': 1, 'invok': 1, 'e': 1, 'g': 1, 'procmail': 1, 'talk': 1, 'exist': 1, 'so': 1, 'doesn': 1, 'score': 1, 'databas': 1, 'for': 1, 'know': 1, 'big': 1, 'would': 1, 'time': 1, 'fine': 1, 'marshal': 1, 'here': 1, 'taker': 1, 'esr': 1, 's': 1, 'bogofilt': 1, 'packag': 1, 'spamassassin': 1, 'perl': 1, 'bay': 1, 'advertis': 1, 'on': 1, 'slashdot': 1, 'guido': 1, 'van': 1, 'rossum': 1, 'home': 1, 'page': 1, 'url': 1}),\n",
       "       Counter({'number': 5, 'who': 2, 'the': 2, 'origin': 2, 'version': 2, 'much': 2, 'on': 1, 'sep': 1, 'at': 1, 'geeg': 1, 'schuman': 1, 'wrote': 1, 'watch': 1, 'lath': 1, 'of': 1, 'heaven': 1, 'a': 1, 'e': 1, 'pm': 1, 'edt': 1, 'ha': 1, 'seen': 1, 'by': 1, 'if': 1, 'you': 1, 'are': 1, 'refer': 1, 'to': 1, 'old': 1, 'pb': 1, 'i': 1, 'like': 1, 'that': 1, 'better': 1, 'more': 1, 'thought': 1, 'provok': 1}),\n",
       "       Counter({'the': 24, 'of': 10, 'a': 8, 'is': 8, 'that': 8, 'to': 7, 's': 6, 'as': 5, 'you': 4, 'there': 4, 'we': 4, 'd': 3, 'it': 3, 'in': 3, 'not': 3, 'were': 3, 'and': 3, 'with': 3, 'or': 3, 'be': 3, 'i': 3, 'said': 2, 'net': 2, 'religion': 2, 'foul': 2, 'action': 2, 'found': 2, 'onli': 2, 'one': 2, 'by': 2, 'coloni': 2, 'buddhism': 2, 'when': 2, 'on': 2, 'aborigin': 2, 'armi': 2, 'violenc': 2, 'are': 2, 'predominantli': 2, 'member': 2, 'head': 2, 'anglican': 2, 'conflict': 2, 'do': 2, 'ideolog': 2, 'practic': 2, 'go': 2, 'gang': 2, 'triad': 2, 'been': 2, 'gari': 1, 'lawrenc': 1, 'murphi': 1, 'stephen': 1, 'william': 1, 'sdw': 1, 'lig': 1, 'write': 1, 'which': 1, 'can': 1, 'claim': 1, 'no': 1, 'past': 1, 'certainli': 1, 'christian': 1, 'islam': 1, 'etc': 1, 'rastafari': 1, 'if': 1, 'conced': 1, 'two': 1, 'branch': 1, 'nyabingi': 1, 'legit': 1, 'other': 1, 'thinli': 1, 'veneer': 1, 'anti': 1, 'hooligan': 1, 'also': 1, 'vietnames': 1, 'unless': 1, 'count': 1, 'set': 1, 'fire': 1, 'oneself': 1, 'what': 1, 'about': 1, 'tibetan': 1, 'btw': 1, 'they': 1, 'seem': 1, 'like': 1, 'an': 1, 'aw': 1, 'nice': 1, 'bunch': 1, 'chap': 1, 'chapess': 1, 'launch': 1, 'nativ': 1, 'number': 1, 'first': 1, 'thing': 1, 'notic': 1, 'network': 1, 'group': 1, 'around': 1, 'world': 1, 'british': 1, 'us': 1, 'proxi': 1, 'extens': 1, 'common': 1, 'thread': 1, 'where': 1, 'neither': 1, 'wa': 1, 'present': 1, 'physic': 1, 'through': 1, 'influenc': 1, 'tend': 1, 'less': 1, 'issu': 1, 'ireland': 1, 'complex': 1, 'but': 1, 'rest': 1, 'assur': 1, 'religi': 1, 'aspect': 1, 'co': 1, 'incid': 1, 'invad': 1, 'royal': 1, 'popul': 1, 'pope': 1, 'cathol': 1, 'itself': 1, 'ha': 1, 'noth': 1, 'sinc': 1, 'church': 1, 'near': 1, 'ident': 1, 'clone': 1, 'catholic': 1, 'now': 1, 'bet': 1, 'attract': 1, 'some': 1, 'healthi': 1, 'debat': 1, 'man': 1, 'm': 1, 'again': 1, 'll': 1, 'agre': 1, 'though': 1, 'have': 1, 'veri': 1, 'littl': 1, 'same': 1, 'true': 1, 'street': 1, 'peopl': 1, 'disenfranchis': 1, 'easier': 1, 'offer': 1, 'them': 1, 'new': 1, 'famili': 1, 'get': 1, 'cellphon': 1, 'car': 1, 'dri': 1, 'place': 1, 'live': 1, 'biker': 1, 'mafia': 1, 'ira': 1, 'al': 1, 'queda': 1, 've': 1, 'fight': 1, 'war': 1, 'terror': 1, 'for': 1, 'long': 1, 'commerc': 1, 'so': 1, 'think': 1, 'realiz': 1, 'escal': 1, 'solut': 1, 'well': 1, 'j': 1}),\n",
       "       Counter({'to': 15, 'you': 7, 'be': 6, 'in': 5, 'a': 4, 'of': 4, 'your': 4, 'and': 4, 'particip': 4, 'will': 4, 'thi': 4, 'for': 3, 'panel': 3, 'the': 3, 'hyperlink': 3, 'url': 3, 'survey': 3, 'number': 3, 'we': 2, 'thank': 2, 'time': 2, 'nextresearch': 2, 'is': 2, 'invit': 2, 'join': 2, 'futur': 2, 'award': 2, 'contact': 2, 'at': 2, 'ani': 2, 'program': 2, 'with': 2, 'from': 2, 'just': 1, 'moment': 1, 'consum': 1, 'electron': 1, 'user': 1, 'now': 1, 'creat': 1, 'help': 1, 'manufactur': 1, 'network': 1, 'programm': 1, 'entertain': 1, 'compani': 1, 'shape': 1, 'their': 1, 'offer': 1, 'exchang': 1, 'willing': 1, 'there': 1, 'prize': 1, 'incent': 1, 'all': 1, 'inform': 1, 'held': 1, 'strictest': 1, 'confid': 1, 'never': 1, 'tri': 1, 'sell': 1, 'anyth': 1, 'abl': 1, 'opt': 1, 'out': 1, 'pleas': 1, 'click': 1, 'here': 1, 'if': 1, 'would': 1, 'like': 1, 'first': 1, 'earn': 1, 'chanc': 1, 'win': 1, 'one': 1, 'new': 1, 'digit': 1, 'video': 1, 'record': 1, 'septemb': 1, 'do': 1, 'not': 1, 'have': 1, 'nation': 1, 'market': 1, 'research': 1, 'conduct': 1, 'highest': 1, 'ethic': 1, 'standard': 1, 'feel': 1, 'free': 1, 'director': 1, 'jennif': 1, 'choat': 1, 'question': 1, 'unsubscrib': 1, 'list': 1, 'simpli': 1, 'repli': 1, 'email': 1, 'remov': 1, 'again': 1, 'consider': 1, 'link': 1}),\n",
       "       Counter({'you': 6, 'to': 5, 'the': 5, 'hyperlink': 4, 'number': 4, 'and': 4, 'inform': 4, 'thi': 4, 'order': 3, 'our': 3, 'in': 3, 'enter': 2, 'now': 2, 'if': 2, 'are': 2, 'over': 2, 'on': 2, 'shop': 2, 'your': 2, 'prioriti': 2, 'a': 2, 'mail': 2, 'never': 2, 'or': 2, 'receiv': 2, 'email': 2, 'us': 2, 'special': 1, 'offer': 1, 'day': 1, 'free': 1, 'access': 1, 'largest': 1, 'adultsit': 1, 'web': 1, 'for': 1, 'readi': 1, 'go': 1, 'can': 1, 'feel': 1, 'safe': 1, 'secur': 1, 'onlin': 1, 'store': 1, 'privaci': 1, 'confidenti': 1, 'is': 1, 'all': 1, 'pack': 1, 'discreet': 1, 'box': 1, 'we': 1, 'share': 1, 'with': 1, 'anyon': 1, 'ship': 1, 'within': 1, 'hour': 1, 'e': 1, 'ha': 1, 'been': 1, 'sent': 1, 'as': 1, 'person': 1, 'interest': 1, 'enclos': 1, 'reach': 1, 'by': 1, 'error': 1, 'do': 1, 'not': 1, 'wish': 1, 'type': 1, 'of': 1, 'futur': 1, 'pleas': 1, 'click': 1, 'word': 1, 'remov': 1, 'repli': 1, 'will': 1, 'be': 1, 'taken': 1, 'off': 1, 'list': 1, 'immedi': 1, 'ani': 1, 'from': 1, 'numberpwqbnumb': 1, 'numbersbchnumbermhgqnumb': 1, 'numberutupnumberarwxnumb': 1, 'numbernzwcnumberikcknumb': 1, 'numberkeswnumbereooinumb': 1, 'numberplnumb': 1}),\n",
       "       Counter({'number': 7, 'url': 2, 'ha': 2, 'the': 2, 'date': 1, 'numbertnumb': 1, 'uk': 1, 'latest': 1, 'support': 1, 'for': 1, 'militari': 1, 'action': 1, 'against': 1, 'iraq': 1, 'among': 1, 'british': 1, 'voter': 1, 'fallen': 1, 'to': 1, 'lowest': 1, 'level': 1, 'record': 1, 'while': 1, 'guardian': 1, 'icm': 1, 'survey': 1, 'been': 1, 'run': 1}),\n",
       "       Counter({'to': 5, 'we': 4, 'are': 4, 'is': 4, 'you': 4, 'a': 3, 'that': 3, 'look': 3, 'from': 3, 'and': 3, 'want': 2, 'number': 2, 'for': 2, 'home': 2, 'an': 2, 'opportun': 2, 'will': 2, 'if': 2, 'be': 2, 'employ': 2, 'go': 2, 'url': 2, 'the': 2, 'link': 2, 'our': 2, 'help': 1, 'year': 1, 'old': 1, 'fortun': 1, 'compani': 1, 'grow': 1, 'at': 1, 'tremend': 1, 'rate': 1, 'individu': 1, 'who': 1, 'work': 1, 'thi': 1, 'make': 1, 'excel': 1, 'incom': 1, 'no': 1, 'experi': 1, 'requir': 1, 'train': 1, 'so': 1, 'with': 1, 'career': 1, 'ha': 1, 'vast': 1, 'then': 1, 'energet': 1, 'self': 1, 'motiv': 1, 'peopl': 1, 'than': 1, 'click': 1, 'on': 1, 'fill': 1, 'out': 1, 'form': 1, 'one': 1, 'of': 1, 'specialist': 1, 'contact': 1, 'remov': 1, 'simpl': 1, 'numberaeeonumb': 1, 'numberyvddnumberbjpknumb': 1, 'numberzyrznumbervnmgnumb': 1, 'numberfvvanumbergqejnumb': 1, 'lnumber': 1}),\n",
       "       Counter({'that': 20, 'a': 13, 'of': 10, 'you': 9, 'to': 9, 't': 8, 'and': 7, 'i': 7, 'or': 7, 'number': 6, 'just': 6, 'the': 5, 'be': 5, 'it': 5, 'on': 4, 'have': 4, 'lover': 4, 'are': 4, 'even': 4, 'but': 4, 'thi': 4, 'mani': 3, 'one': 3, 'not': 3, 'few': 3, 'sex': 3, 're': 3, 'at': 3, 'least': 3, 'assum': 3, 'would': 3, 'gay': 3, 's': 3, 'in': 3, 'so': 2, 'eugen': 2, 'your': 2, 'had': 2, 'numberk': 2, 'doe': 2, 'now': 2, 'do': 2, 'know': 2, 'who': 2, 'hypothes': 2, 'like': 2, 'no': 2, 'us': 2, 'couldn': 2, 'someth': 2, 'we': 2, 'yeah': 2, 'm': 2, 'also': 2, 'with': 2, 'don': 2, 'veri': 2, 'lucki': 2, 'my': 2, 'as': 2, 'into': 2, 'might': 2, 'bore': 2, 'homosexu': 2, 'popul': 2, 'qualifi': 2, 'find': 2, 'manchest': 2, 'think': 2, 'partner': 2, 'want': 2, 'happen': 2, 'becaus': 2, 'mon': 1, 'sep': 1, 'bitbitch': 1, 'magnesium': 1, 'net': 1, 'wrote': 1, 'how': 1, 'homo': 1, 'friend': 1, 'everybodi': 1, 'most': 1, 'them': 1, 'dead': 1, 'anyway': 1, 'anyon': 1, 'outsid': 1, 'meybe': 1, 'wilt': 1, 'chamberlin': 1, 'gang': 1, 'bang': 1, 'porn': 1, 'queen': 1, 'ye': 1, 'notic': 1, 've': 1, 'specif': 1, 'exclud': 1, 'industri': 1, 'cheat': 1, 'eegad': 1, 'if': 1, 'owe': 1, 'fork': 1, 'back': 1, 'shit': 1, 'up': 1, 'ain': 1, 'done': 1, 'anecdot': 1, 'evid': 1, 'r': 1, 'googl': 1, 'otherwis': 1, 'liabl': 1, 'rampant': 1, 'unfound': 1, 'homophobia': 1, 'lose': 1, 'jew': 1, 'nazi': 1, 'muslim': 1, 'lead': 1, 'charact': 1, 'kaz': 1, 'underworld': 1, 'can': 1, 'go': 1, 'programm': 1, 'quick': 1, 'assumpt': 1, 'here': 1, 'math': 1, 'geek': 1, 'anyth': 1, 'everi': 1, 'day': 1, 'everyday': 1, 'for': 1, 'year': 1, 'some': 1, 'chang': 1, 'about': 1, 'close': 1, 'which': 1, 'wa': 1, 'point': 1, 'gurl': 1, 'hyperpromiscu': 1, 'life': 1, 'style': 1, 'interest': 1, 'launch': 1, 'diatrib': 1, 'threaten': 1, 'use': 1, 'instant': 1, 'argument': 1, 'add': 1, 'hominem': 1, 'instead': 1, 'pull': 1, 'whole': 1, 'thing': 1, 'out': 1, 'nether': 1, 'orific': 1, 'after': 1, 'awhil': 1, 'sexahol': 1, 'get': 1, 'mingl': 1, 'new': 1, 'their': 1, 'weekend': 1, 'realli': 1, 'assumi': 1, 'is': 1, 'larg': 1, 'given': 1, 'area': 1, 'mecca': 1, 'ever': 1, 'been': 1, 'san': 1, 'francisco': 1, 'tri': 1, 'kind': 1, 'say': 1, 'tulsa': 1, 'oklahoma': 1, 'nh': 1, 'tho': 1, 'quit': 1, 'could': 1, 'difficult': 1, 'bathhous': 1, 'thule': 1, 'greenland': 1, 'part': 1, 'central': 1, 'africa': 1, 'both': 1, 'oort': 1, 'kuiper': 1, 'belt': 1, 'utterli': 1, 'devoid': 1, 'peopl': 1, 'well': 1, 'isn': 1, 'remark': 1, 'nifti': 1, 'gaybar': 1, 'differ': 1, 'stori': 1, 'b': 1, 'obsess': 1, 'recreat': 1, 'free': 1, 'pursu': 1, 'often': 1, 'they': 1, 'd': 1, 'doesn': 1, 'feel': 1, 'way': 1, 'correct': 1, 'yourself': 1, 'lower': 1, 'outrag': 1, 'didn': 1, 'expect': 1, 'much': 1, 'reflex': 1, 'knee': 1, 'jerk': 1, 'list': 1}),\n",
       "       Counter({'number': 10, 'poker': 5, 'url': 3, 'play': 3, 'the': 3, 'for': 3, 'card': 3, 'stud': 3, 'daili': 3, 'at': 2, 'real': 2, 'from': 2, 'world': 2, 'of': 2, 'we': 2, 've': 2, 'hand': 2, 'softwar': 2, 'today': 2, 'and': 2, 'to': 2, 'omaha': 2, 'hi': 2, 'lo': 2, 'tournament': 2, 'with': 2, 'bonu': 2, 'get': 1, 'your': 1, 'favorit': 1, 'action': 1, 'against': 1, 'peopl': 1, 'around': 1, 'money': 1, 'or': 1, 'just': 1, 'fun': 1, 'access': 1, 'one': 1, 'busiest': 1, 'room': 1, 'onlin': 1, 'dealt': 1, 'over': 1, 'million': 1, 'experi': 1, 'best': 1, 'avail': 1, 'featur': 1, 'class': 1, 'graphic': 1, 'true': 1, 'random': 1, 'shuffl': 1, 'algorithm': 1, 'numberxnumb': 1, 'custom': 1, 'servic': 1, 'got': 1, 'a': 1, 'great': 1, 'select': 1, 'game': 1, 'you': 1, 'such': 1, 'as': 1, 'hold': 1, 'em': 1, 'sign': 1, 'up': 1, 'start': 1, 'new': 1, 'old': 1, 'friend': 1, 'download': 1, 'our': 1, 'free': 1, 'now': 1, 'current': 1, 'promot': 1, 'deposit': 1, 'high': 1, 'progress': 1, 'bad': 1, 'beat': 1, 'jackpot': 1, 'minimum': 1, 'ad': 1, 'multiplay': 1, 'shootout': 1, 'wish': 1, 'not': 1, 'receiv': 1, 'ani': 1, 'further': 1, 'e': 1, 'mail': 1, 'us': 1, 'pleas': 1, 'click': 1, 'cnumber': 1, 'ssnumber': 1, 'numberqgaunumb': 1, 'numberwmennumberlnumb': 1, 'numbereyrlnumb': 1, 'numberlnumb': 1}),\n",
       "       Counter({'url': 2, 'so': 1, 'much': 1, 'for': 1, 'carnivor': 1, 'gari': 1, 'lawrenc': 1, 'murphi': 1, 'garym': 1, 'teledyn': 1, 'com': 1, 'teledynam': 1, 'commun': 1, 'blog': 1, 'biz': 1, 'comput': 1, 'are': 1, 'useless': 1, 'they': 1, 'can': 1, 'onli': 1, 'give': 1, 'you': 1, 'answer': 1, 'picasso': 1}),\n",
       "       Counter({'to': 10, 'and': 5, 'ein': 5, 'or': 4, 'free': 4, 'a': 4, 'thi': 4, 'the': 3, 'trial': 3, 'subscript': 3, 'at': 3, 'news': 3, 'number': 3, 'you': 3, 'have': 3, 'of': 3, 'repli': 3, 'url': 3, 'pleas': 3, 'is': 2, 'petr': 2, 'stanek': 2, 'updat': 2, 'other': 2, 'your': 2, 'can': 2, 'subscrib': 2, 'sign': 2, 'up': 2, 'be': 2, 'ani': 2, 'europeaninternet': 2, 'com': 2, 'remov': 2, 'dear': 1, 'sir': 1, 'madam': 1, 'my': 1, 'name': 1, 'i': 1, 'am': 1, 'manag': 1, 'program': 1, 'european': 1, 'internet': 1, 'network': 1, 'publish': 1, 'hourli': 1, 'break': 1, 'headlin': 1, 'import': 1, 'inform': 1, 'from': 1, 'countri': 1, 'region': 1, 'dure': 1, 'septemb': 1, 'associ': 1, 'delux': 1, 'edit': 1, 'will': 1, 'access': 1, 'collect': 1, 'daili': 1, 'articl': 1, 'archiv': 1, 'mani': 1, 'benefit': 1, 'too': 1, 'onc': 1, 'again': 1, 'just': 1, 'e': 1, 'mail': 1, 'partial': 1, 'list': 1, 'current': 1, 'found': 1, 'if': 1, 'question': 1, 'comment': 1, 'need': 1, 'assist': 1, 'contact': 1, 'us': 1, 'person': 1, 'by': 1, 'either': 1, 'write': 1, 'helpdesk': 1, 'simpli': 1, 'email': 1, 'feel': 1, 'forward': 1, 'offer': 1, 'colleagu': 1, 'best': 1, 'regard': 1, 'depart': 1}),\n",
       "       Counter({'number': 10, 't': 6, 'i': 6, 'openssh': 5, 'that': 4, 'packag': 3, 'it': 3, 'rpm': 3, 'to': 3, 'list': 3, 'don': 2, 'a': 2, 'version': 2, 'of': 2, 'do': 2, 'have': 2, 'is': 2, 'red': 2, 'hat': 2, 'and': 2, 's': 2, 'from': 2, 'the': 2, 'rh': 2, 'doesn': 2, 'downgrad': 2, 'ssh': 2, 'on': 1, 'wed': 1, 'feb': 1, 'at': 1, 'numberpm': 1, 'matthia': 1, 'saou': 1, 'wrote': 1, 'strang': 1, 'all': 1, 'my': 1, 'explicitli': 1, 'requir': 1, 'openssl': 1, 'what': 1, 'you': 1, 'an': 1, 'offici': 1, 'suppos': 1, 'isn': 1, 'use': 1, 'will': 1, 'solv': 1, 'your': 1, 'problem': 1, 'numberpnumb': 1, 'think': 1, 'directli': 1, 'site': 1, 'upgrad': 1, 'ship': 1, 'with': 1, 'probabl': 1, 'should': 1, 'versoin': 1, 'provid': 1, 'except': 1, 'can': 1, 'as': 1, 'physic': 1, 'access': 1, 'box': 1, 'over': 1, 'sound': 1, 'like': 1, 'bright': 1, 'idea': 1, 'peter': 1, '_______________________________________________': 1, 'mail': 1, 'freshrpm': 1, 'net': 1, 'url': 1}),\n",
       "       Counter({'number': 6, 'url': 2, 'date': 1, 'numbertnumb': 1, 'some': 1, 'gentleman': 1}),\n",
       "       Counter({'number': 10, 'url': 4, 'are': 4, 'the': 4, 'net': 2, 'option': 2, 'or': 2, 'look': 2, 'let': 2, 's': 2, 'just': 2, 'a': 2, 'if': 2, 'x': 2, 'fine': 2, 'is': 2, 'you': 2, 'thi': 2, 'mail': 2, 'assigne': 2, 'for': 2, 'spamassassin': 2, 'devel': 2, 'list': 2, 'addit': 1, 'comment': 1, 'from': 1, 'felic': 1, 'kluge': 1, 'subject': 1, 're': 1, 'sadev': 1, 'spam_level_char': 1, 'chang': 1, 'remov': 1, 'on': 1, 'fri': 1, 'sep': 1, 'at': 1, 'numberam': 1, 'bugzilla': 1, 'daemon': 1, 'hugh': 1, 'famili': 1, 'org': 1, 'wrote': 1, 'anoth': 1, 'would': 1, 'terribl': 1, 'use': 1, 'letter': 1, 'aesthet': 1, 'your': 1, 'concern': 1, 'i': 1, 'think': 1, 'an': 1, 'will': 1, 'but': 1, 'not': 1, 'take': 1, 'out': 1, 'config': 1, 'peopl': 1, 'realli': 1, 'want': 1, 'to': 1, 'have': 1, 'it': 1, 'be': 1, 'someth': 1, 'els': 1, 'we': 1, 'shouldn': 1, 't': 1, 'hinder': 1, 'them': 1, 'receiv': 1, 'becaus': 1, 'bug': 1, 'watch': 1, 'email': 1, 'sponsor': 1, 'by': 1, 'osdn': 1, 'tire': 1, 'of': 1, 'that': 1, 'same': 1, 'old': 1, 'cell': 1, 'phone': 1, 'get': 1, 'new': 1, 'here': 1, 'free': 1, '_______________________________________________': 1, 'sourceforg': 1}),\n",
       "       Counter({'to': 5, 'number': 5, 'the': 4, 'i': 3, 'url': 3, 'subject': 2, 'on': 2, 'follow': 2, 'spam': 2, 'is': 2, 'a': 2, 'mail': 2, 'newspap': 2, 'can': 2, 'home': 2, 'school': 2, 'will': 2, 'thi': 2, 'razor': 2, 'user': 2, 'list': 2, 'continu': 1, 'an': 1, 'otherwis': 1, 'unrel': 1, 'note': 1, 'person': 1, 'correspond': 1, 'wa': 1, 'just': 1, 'flag': 1, 'as': 1, 'slightli': 1, 'modifi': 1, 'e': 1, 'messag': 1, 'trap': 1, 'in': 1, 'server': 1, 'wide': 1, 'box': 1, 'ani': 1, 'time': 1, 'estim': 1, 'when': 1, 'we': 1, 'expect': 1, 'you': 1, 'dad': 1, 'cc': 1, 'oh': 1, 'yeah': 1, 'pm': 1, 'have': 1, 'stay': 1, 'after': 1, 'today': 1, 'so': 1, 'work': 1, 'layout': 1, 'nord': 1, 'bring': 1, 'me': 1, 'later': 1, 'than': 1, 'usual': 1, 'don': 1, 't': 1, 'know': 1, 'how': 1, 'explain': 1, 'one': 1, 'email': 1, 'sponsor': 1, 'by': 1, 'thinkgeek': 1, 'welcom': 1, 'geek': 1, 'heaven': 1, '_______________________________________________': 1, 'sourceforg': 1, 'net': 1}),\n",
       "       Counter({'number': 8, 'and': 5, 'to': 4, 'your': 3, 'in': 3, 'be': 3, 'more': 3, 'a': 3, 'guarante': 2, 'increas': 2, 'lift': 2, 'day': 2, 'or': 2, 'natur': 2, 'all': 2, 'click': 2, 'here': 2, 'url': 2, 'no': 2, 'from': 2, 'you': 2, 'email': 2, 'list': 2, 'firm': 1, 'breast': 1, 'money': 1, 'back': 1, 'herbal': 1, 'proven': 1, 'formula': 1, 'sinc': 1, 'bust': 1, 'by': 1, 'size': 1, 'within': 1, 'absolut': 1, 'side': 1, 'effect': 1, 'self': 1, 'confid': 1, 'comfort': 1, 'bed': 1, 'need': 1, 'for': 1, 'support': 1, 'bra': 1, 'name': 1, 'know': 1, 'trust': 1, 'are': 1, 'receiv': 1, 'thi': 1, 'as': 1, 'doubl': 1, 'opt': 1, 'subscrib': 1, 'the': 1, 'standard': 1, 'affili': 1, 'mail': 1, 'remov': 1, 'yourself': 1, 'relat': 1, 'just': 1}),\n",
       "       Counter({'the': 20, 'messag': 12, 'to': 11, 'that': 11, 'of': 10, 'number': 9, 'm': 9, 'i': 9, 'in': 8, 'is': 8, 'sequenc': 7, 'file': 7, 'a': 6, 'it': 6, 'folder': 5, 'not': 5, 'but': 5, 'list': 5, 'exist': 4, 'if': 4, 'and': 4, 'time': 4, 'exmh': 4, 'date': 3, 'com': 3, 'at': 3, 's': 3, 'hack': 3, 'for': 3, 'don': 3, 't': 3, 'mhprofil': 3, 'path': 3, 'ix': 3, 'seq': 3, 'about': 3, 'my': 3, 'sure': 3, 'check': 3, 'everi': 3, 'valid': 3, 'you': 3, 'directori': 3, 'deepeddi': 2, 'so': 2, 'code': 2, 'mhseqexpand': 2, 'set': 2, 'which': 2, 'start': 2, 'bunch': 2, 'first': 2, 'return': 2, 'call': 2, 'could': 2, 'be': 2, 'are': 2, 'keep': 2, 'chang': 2, 'read': 2, 'will': 2, 'an': 2, 'alreadi': 2, 'maintain': 2, 'mh_sequenc': 2, 'also': 2, 'cach': 2, 'by': 2, 'their': 2, 'them': 2, 'state': 2, 'welch': 2, 'panasa': 2, 'url': 2, 'worker': 2, 'robert': 1, 'elz': 1, 'said': 1, 'wed': 1, 'aug': 1, 'from': 1, 'chri': 1, 'garrigu': 1, 'cwg': 1, 'numberadnumberb': 1, 'co': 1, 'id': 1, 'tmda': 1, 'vircio': 1, 'll': 1, 'probabl': 1, 'poke': 1, 'around': 1, 'perform': 1, 'issu': 1, 'well': 1, 'there': 1, 'thi': 1, 'wonder': 1, 'piec': 1, 'weed': 1, 'out': 1, 'foreach': 1, 'rseq': 1, 'exmh_debug': 1, 'found': 1, 'lsearch': 1, 'lreplac': 1, 'els': 1, 'real': 1, 'least': 1, 'up': 1, 'front': 1, 'break': 1, 'go': 1, 'run': 1, 'slow': 1, 'happen': 1, 'with': 1, 'whi': 1, 'import': 1, 'necessarili': 1, 'ani': 1, 'other': 1, 'glad': 1, 'as': 1, 'get': 1, 'lot': 1, 'know': 1, 'cope': 1, 'were': 1, 'look': 1, 'all': 1, 'wa': 1, 'think': 1, 'recollect': 1, 'ftoc': 1, 'want': 1, 'find': 1, 'highlight': 1, 'exampl': 1, 'or': 1, 'select': 1, 'display': 1, 'may': 1, 'help': 1, 'current': 1, 'though': 1, 'would': 1, 'then': 1, 'need': 1, 'verifi': 1, 'against': 1, 'doe': 1, 'tcl': 1, 'have': 1, 'function': 1, 'assum': 1, 'glob': 1, 'nocomplain': 1, 'unsort': 1, 'content': 1, 'thought': 1, 'memori': 1, 'fun': 1, 'core': 1, 'pretti': 1, 'tricki': 1, 'goe': 1, 'reread': 1, 'context': 1, 'how': 1, 'frequent': 1, 'one': 1, 'some': 1, 'place': 1, 'modifi': 1, 'soo': 1, 'small': 1, 'stat': 1, 'stamp': 1, 'just': 1, 'again': 1, 'now': 1, 'we': 1, 'checkpoint': 1, 'on': 1, 'view': 1, 'old': 1, 'day': 1, 'use': 1, 'brent': 1, 'softwar': 1, 'architect': 1, 'inc': 1, 'pioneer': 1, 'world': 1, 'most': 1, 'scalabl': 1, 'agil': 1, 'storag': 1, 'network': 1, '_______________________________________________': 1, 'mail': 1, 'redhat': 1}),\n",
       "       Counter({'to': 11, 'folder': 10, 'the': 10, 'right': 6, 'link': 6, 'messag': 5, 'move': 5, 'use': 5, 'i': 4, 'a': 4, 'click': 3, 'exmh': 3, 'current': 3, 'shift': 3, 'com': 2, 'have': 2, 'set': 2, 'mous': 2, 'work': 2, 'same': 2, 'destin': 2, 'so': 2, 'with': 2, 'can': 2, 'way': 2, 'for': 2, 'some': 2, 'label': 2, 'middl': 2, 'target': 2, 'user': 2, 'in': 1, 'numbergnumberdnumbervonumb': 1, 'hobbit': 1, 'linuxwork': 1, 'au': 1, 'nospam': 1, 'toni': 1, 'nu': 1, 'gent': 1, 'write': 1, 'my': 1, 'button': 1, 'anoth': 1, 'which': 1, 'fine': 1, 'howev': 1, 'also': 1, 'as': 1, 'and': 1, 'if': 1, 'want': 1, 'first': 1, 'mark': 1, 'undo': 1, 'then': 1, 'veri': 1, 'inconveni': 1, 'is': 1, 'there': 1, 'better': 1, 'me': 1, 'thi': 1, 'up': 1, 'that': 1, 'one': 1, 'or': 1, 'two': 1, 'simpl': 1, 'accord': 1, 'old': 1, 'document': 1, 'man': 1, 'ref': 1, 'bind': 1, 'are': 1, 'left': 1, 'chang': 1, 'view': 1, 'nest': 1, 'refil': 1, 'drag': 1, 'drop': 1, 'control': 1, 'clear': 1, 'it': 1, 'should': 1, 'be': 1, 'possibl': 1, 'you': 1, 'onli': 1, 'kevin': 1, '_______________________________________________': 1, 'mail': 1, 'list': 1, 'redhat': 1, 'url': 1}),\n",
       "       Counter({'number': 69, 'email': 19, 'the': 13, 'servic': 10, 'of': 9, 'a': 9, 'advertis': 8, 'to': 8, 'you': 8, 'and': 7, 'freedombuild': 6, 'can': 6, 'your': 6, 'or': 6, 'we': 6, 'our': 6, 'for': 6, 'million': 5, 'in': 5, 'have': 5, 's': 5, 'mail': 4, 'is': 4, 'say': 4, 'price': 4, 'by': 4, 'address': 4, 'be': 4, 'order': 4, 'pleas': 4, 'remov': 4, 'busi': 3, 'are': 3, 'ha': 3, 'over': 3, 'bulk': 3, 'market': 3, 'list': 3, 'with': 3, 'as': 3, 'let': 3, 'thi': 3, 'inform': 3, 'product': 2, 'peopl': 2, 'that': 2, 'they': 2, 'now': 2, 'way': 2, 'send': 2, 'mass': 2, 'e': 2, 'rate': 2, 'high': 2, 'made': 2, 'use': 2, 'custom': 2, 'most': 2, 'month': 2, 'guarante': 2, 'best': 2, 'all': 2, 'on': 2, 'abov': 2, 'day': 2, 'how': 2, 'includ': 2, '_________________________': 2, 'us': 2, 'numberth': 2, 'from': 2, 'request': 2, 'put': 1, 'instantli': 1, 'into': 1, 'hand': 1, 'prospect': 1, 'mani': 1, 'find': 1, 'out': 1, 'never': 1, 'could': 1, 'afford': 1, 'past': 1, 'cost': 1, 'extrem': 1, 'low': 1, 'respons': 1, 'quick': 1, 'usa': 1, 'today': 1, 'sanford': 1, 'wallac': 1, 'he': 1, 'dollar': 1, 'wall': 1, 'street': 1, 'journal': 1, 'sinc': 1, 'provid': 1, 'thousand': 1, 'well': 1, 'satisfi': 1, 'offer': 1, 'competit': 1, 'industri': 1, 'possibl': 1, 'percentag': 1, 'repeat': 1, 'advanc': 1, 'direct': 1, 'technolog': 1, 'employ': 1, 'onli': 1, 'knowledg': 1, 'few': 1, 'world': 1, 'activ': 1, 'increas': 1, 'at': 1, 'per': 1, 'will': 1, 'instant': 1, 'result': 1, 'someth': 1, 'no': 1, 'other': 1, 'form': 1, 'claim': 1, 'turn': 1, 'around': 1, 'time': 1, 'remark': 1, 'hour': 1, 'sort': 1, 'clean': 1, 'filter': 1, 'veri': 1, 'profit': 1, 'campaign': 1, 'lowest': 1, 'proven': 1, 'track': 1, 'record': 1, 'tax': 1, 'write': 1, 'off': 1, 'sell': 1, 'daili': 1, 'receiv': 1, 'just': 1, 'everi': 1, 'calcul': 1, 'earn': 1, 'base': 1, 'statist': 1, 'week': 1, 'see': 1, 'work': 1, 'help': 1, 'inquir': 1, 'deliv': 1, 'messag': 1, 'subject': 1, 'line': 1, 'faster': 1, 'name': 1, '_______________________________': 1, '______________________________': 1, 'phone': 1, 'finish': 1, 'readi': 1, 'sent': 1, 'ad': 1, 'floppi': 1, 'disk': 1, 'payabl': 1, 'cash': 1, 'certifi': 1, 'chequ': 1, 'intern': 1, 'money': 1, 'freedom': 1, 'builder': 1, 'suit': 1, 'avenu': 1, 'grand': 1, 'prairi': 1, 'ab': 1, 'canada': 1, 'tnumberv': 1, 'numbertnumb': 1, 'inquiri': 1, 'extend': 1, 'call': 1, 'voic': 1, 'fax': 1, 'limit': 1, 'sec': 1, 'btamail': 1, 'net': 1, 'cn': 1, 'regard': 1, 'bless': 1, 'under': 1, 'bill': 1, 'titl': 1, 'iii': 1, 'pass': 1, 'u': 1, 'congress': 1, 'letter': 1, 'not': 1, 'consid': 1, 'spam': 1, 'long': 1, 'contact': 1, 'futur': 1, 'if': 1, 'reach': 1, 'error': 1, 'wish': 1, 'numberrfenumb': 1, 'eudoramail': 1, 'com': 1, 'honor': 1}),\n",
       "       Counter({'url': 2, 'first': 1, 'seen': 1, 'on': 1, 'dave': 1, 'winer': 1, 's': 1, 'scrpite': 1, 'news': 1, 'detail': 1, 'here': 1, 'jim': 1}),\n",
       "       Counter({'the': 9, 'tax': 6, 'a': 6, 'of': 4, 'number': 4, 'might': 4, 'who': 3, 'it': 3, 'that': 3, 'i': 3, 'bitbitch': 2, 'magnesium': 2, 'net': 2, 'than': 2, 'drink': 2, 'to': 2, 'on': 2, 'an': 2, 'espresso': 2, 'be': 2, 'cost': 2, 'diet': 2, 'dr': 2, 'pepper': 2, 'from': 1, 'mailto': 1, 'burbank': 1, 'say': 1, 'would': 1, 'reach': 1, 'onli': 1, 'pre': 1, 'select': 1, 'group': 1, 'consum': 1, 'are': 1, 'wealthier': 1, 'those': 1, 'drip': 1, 'so': 1, 'he': 1, 's': 1, 'been': 1, 'pitch': 1, 'as': 1, 'modern': 1, 'day': 1, 'robin': 1, 'hood': 1, 'where': 1, 'needi': 1, 'get': 1, 'dime': 1, 'everi': 1, 'time': 1, 'affluent': 1, 'spend': 1, 'peopl': 1, 'pour': 1, 'aren': 1, 't': 1, 'rich': 1, 'interest': 1, 'issu': 1, 'how': 1, 'affect': 1, 'employ': 1, 'still': 1, 'is': 1, 'or': 1, 'less': 1, 'sale': 1, 'not': 1, 'make': 1, 'big': 1, 'differ': 1, 'track': 1, 'revenu': 1, 'and': 1, 'collect': 1, 'oner': 1, 'wors': 1, 'itself': 1, 'me': 1, 'hate': 1, 'coffe': 1, 'anyway': 1, 'but': 1, 'if': 1, 'they': 1, 'put': 1, 'can': 1, 'have': 1, 'start': 1, 'buy': 1, 'them': 1, 'in': 1, 'oregon': 1, 'ye': 1, 'much': 1}),\n",
       "       Counter({'number': 5, 'perl': 4, 'to': 4, 'use': 3, 'you': 3, 'messag': 3, 'your': 3, 'pudg': 2, 'on': 2, 'url': 2, 'receiv': 2, 'thi': 2, 'and': 2, 'from': 2, 'or': 2, 'chang': 2, 'prefer': 2, 'daili': 1, 'headlin': 1, 'mailer': 1, 'the': 1, 'journal': 1, 'return': 1, 'onlin': 1, 'post': 1, 'by': 1, 'wednesday': 1, 'septemb': 1, 'link': 1, 'copyright': 1, 'all': 1, 'right': 1, 'reserv': 1, 'have': 1, 'becaus': 1, 'subscrib': 1, 'it': 1, 'stop': 1, 'other': 1, 'add': 1, 'more': 1, 'pleas': 1, 'go': 1, 'user': 1, 'page': 1, 'can': 1, 'log': 1, 'in': 1, 'there': 1})],\n",
       "      dtype=object)"
      ]
     },
     "execution_count": 62,
     "metadata": {},
     "output_type": "execute_result"
    }
   ],
   "source": [
    "# Examples\n",
    "X_examples = X_train[:50]\n",
    "X_examples_wordcounts = EmailToWordCounterTransformer().fit_transform(X_examples)\n",
    "X_examples_wordcounts"
   ]
  },
  {
   "cell_type": "code",
   "execution_count": null,
   "id": "a210ea0f",
   "metadata": {},
   "outputs": [],
   "source": []
  }
 ],
 "metadata": {
  "kernelspec": {
   "display_name": "Python 3 (ipykernel)",
   "language": "python",
   "name": "python3"
  },
  "language_info": {
   "codemirror_mode": {
    "name": "ipython",
    "version": 3
   },
   "file_extension": ".py",
   "mimetype": "text/x-python",
   "name": "python",
   "nbconvert_exporter": "python",
   "pygments_lexer": "ipython3",
   "version": "3.11.4"
  }
 },
 "nbformat": 4,
 "nbformat_minor": 5
}
